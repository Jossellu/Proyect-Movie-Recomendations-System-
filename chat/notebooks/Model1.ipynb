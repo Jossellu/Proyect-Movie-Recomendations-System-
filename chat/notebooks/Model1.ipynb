{
  "cells": [
    {
      "cell_type": "code",
      "execution_count": 33,
      "metadata": {
        "id": "U6HayzTnhdw_"
      },
      "outputs": [],
      "source": [
        "say_hello =  [\n",
        "    \"Hello\",\n",
        "    \"Good morning\",\n",
        "    \"Good afternoon\",\n",
        "    \"Good evening\",\n",
        "    \"Hi, how are you?\",\n",
        "    \"Hey there!\",\n",
        "    \"Hey!\",\n",
        "    \"Hi\",\n",
        "    \"Greetings\",\n",
        "    \"Good day\",\n",
        "    \"Hello there!\",\n",
        "    \"Hello, how's it going?\",\n",
        "    \"Hey, what's up?\",\n",
        "    \"Hey, friend!\",\n",
        "    \"Hey, buddy!\",\n",
        "    \"Hi there!\",\n",
        "    \"Hi, good morning!\",\n",
        "    \"Hi, good afternoon!\",\n",
        "    \"Hi, good evening!\",\n",
        "    \"Hi, how are you doing?\",\n",
        "    \"Hi, it's good to see you!\",\n",
        "    \"Hi, how have you been?\",\n",
        "    \"Hi, nice to see you!\",\n",
        "    \"Hi, hope you're well!\",\n",
        "    \"Hi, hope everything's going well!\",\n",
        "    \"Hi, how's everything?\",\n",
        "    \"Hi, what's new?\",\n",
        "    \"Hi, long time no see!\",\n",
        "    \"Hi, what's happening?\",\n",
        "    \"Hi, how's your day going?\",\n",
        "    \"Hello, how are you?\",\n",
        "    \"Good morning, how's your day going so far?\",\n",
        "    \"Good afternoon, how are things with you?\",\n",
        "    \"Good evening, how was your day?\",\n",
        "    \"Hi, how are you doing today?\",\n",
        "    \"Hey there, how have you been?\",\n",
        "    \"Hey, what's new with you?\",\n",
        "    \"Hi, how's everything going?\",\n",
        "    \"Greetings, how's your day been?\",\n",
        "    \"Good day, how's it going?\",\n",
        "    \"Hello there, how are you feeling?\",\n",
        "    \"Hello, how's everything with you?\",\n",
        "    \"Hey, how are things going for you?\",\n",
        "    \"Hey, friend, how have you been lately?\",\n",
        "    \"Hey, buddy, how's life treating you?\",\n",
        "    \"Hi there, how's your day been so far?\",\n",
        "    \"Hi, good morning, how are you today?\",\n",
        "    \"Hi, good afternoon, how's it going?\",\n",
        "    \"Hi, good evening, how's your night going?\",\n",
        "    \"Hi, how's your day shaping up?\",\n",
        "    \"Hi, it's good to see you! How are you?\",\n",
        "    \"Hi, how have you been keeping?\",\n",
        "    \"Hi, nice to see you! How are things?\",\n",
        "    \"Hi, hope you're well! How's everything?\",\n",
        "    \"Hi, hope everything's going well! How are you?\",\n",
        "    \"Hi, how's everything been going for you?\",\n",
        "    \"Hi, what's new with you lately?\",\n",
        "    \"Hi, long time no see! How have you been?\",\n",
        "    \"Hi, what's happening with you?\",\n",
        "    \"Hi, how's your day going? Anything exciting?\"\n",
        "\n",
        "]"
      ]
    },
    {
      "cell_type": "code",
      "execution_count": 34,
      "metadata": {
        "id": "YxujV6InjSox"
      },
      "outputs": [],
      "source": [
        "ask_information = [\n",
        "    \"Could you tell me about\",\n",
        "    \"I'd like to know\",\n",
        "    \"Can you explain\",\n",
        "    \"Do you have any information on\",\n",
        "    \"Could you provide more details about\",\n",
        "    \"What can you tell me about\",\n",
        "    \"I'm interested in learning more about\",\n",
        "    \"Would you mind telling me\",\n",
        "    \"Could you clarify\",\n",
        "    \"Can you give me an update on\",\n",
        "    \"Do you happen to know\",\n",
        "    \"I'm curious about\",\n",
        "    \"I'd appreciate it if you could tell me\",\n",
        "    \"Could you shed some light on\",\n",
        "    \"I'm wondering if you could explain\",\n",
        "    \"Would you be able to share\",\n",
        "    \"Could you elaborate on\",\n",
        "    \"Do you have any insight into\",\n",
        "    \"I'd like to find out more about\",\n",
        "    \"Can you shed some more information on\",\n",
        "    \"Could you fill me in on\",\n",
        "    \"I'm looking for information on\",\n",
        "    \"Would it be possible to get some details on\",\n",
        "    \"Do you know anything about\",\n",
        "    \"I'd love to hear more about\",\n",
        "    \"Can you provide some context on\",\n",
        "    \"Would you mind giving me some background on\",\n",
        "    \"Could you update me on\",\n",
        "    \"Can you brief me on\",\n",
        "    'what is your function?',\n",
        "    'i need help',\n",
        "    'can un help me?',\n",
        "    'gimme information please',\n",
        "    'info',\n",
        "    'what can you do for me',\n",
        "    'give me info please',\n",
        "    'gimme information',\n",
        "    'tell me about you',\n",
        "    'what can you do?',\n",
        "    'explain yourself',\n",
        "    'whats this?',\n",
        "    'what is this?'\n",
        "]\n"
      ]
    },
    {
      "cell_type": "code",
      "execution_count": 35,
      "metadata": {
        "id": "LGY7KCnLjbg8"
      },
      "outputs": [],
      "source": [
        "ask_recommendation = [\n",
        "    \"Could you recommend something to watch\",\n",
        "    \"What would you recommend watching\",\n",
        "    \"Do you have any recommendations on what to watch\",\n",
        "    \"Can you suggest something good to watch\",\n",
        "    \"Could you give me a recommendation for something to watch\",\n",
        "    \"I'm looking for a good show/movie to watch, any recommendations\",\n",
        "    \"Any suggestions on what to watch\",\n",
        "    \"I'm in the mood for something new, any recommendations\",\n",
        "    \"Could you suggest a movie/TV show to watch\",\n",
        "    \"Do you know any good movies/TV shows to watch\",\n",
        "    \"I'm trying to find something interesting to watch, any ideas\",\n",
        "    \"I'm looking for recommendations on what to watch\",\n",
        "    \"I'm looking for something to binge-watch, any recommendations\",\n",
        "    \"Could you recommend a good series/movie to watch\",\n",
        "    \"Do you have any suggestions for what I should watch\",\n",
        "    \"Can you recommend something interesting to watch\",\n",
        "    \"I'm looking for a recommendation on what to watch\",\n",
        "    \"Could you suggest a good movie/TV show to watch\",\n",
        "    \"Any good movies/series you could recommend\",\n",
        "    \"What are your recommendations for something to watch\",\n",
        "    \"Can you recommend a must-watch series/movie\",\n",
        "    \"Any ideas on what I should watch\",\n",
        "    \"I need recommendations for what to watch\",\n",
        "    \"Could you suggest a show/movie to watch\",\n",
        "    \"Any recommendations for shows/movies\",\n",
        "    \"What should I watch next\",\n",
        "    \"Looking for recommendations on what to watch\",\n",
        "    \"Any recommendations on what's good to watch\",\n",
        "    \"I'm looking for something entertaining to watch, any suggestions\",\n",
        "    \"Any recommendations for a good series/movie\",\n",
        "    'i want to watch some',\n",
        "    'i need to relax',\n",
        "    'give me something to watch',\n",
        "    'movie',\n",
        "    'tv show',\n",
        "    'take to your recommendation system',\n",
        "    'take me to your recommendation function',\n",
        "    'take me to recommendations',\n",
        "    'take me to your movies section',\n",
        "    'i wanna watch some',\n",
        "    'gimme some to see',\n",
        "    'gimme som to watch'\n",
        "]"
      ]
    },
    {
      "cell_type": "code",
      "execution_count": 36,
      "metadata": {
        "id": "33vFUu4DA_ZP"
      },
      "outputs": [],
      "source": [
        "thank_you = [\n",
        "    \"Thank you\",\n",
        "    \"Thanks\",\n",
        "    \"Thank you so much\",\n",
        "    \"Thanks a lot\",\n",
        "    \"Thanks a bunch\",\n",
        "    \"Thanks a million\",\n",
        "    \"Thank you very much\",\n",
        "    \"Thank you kindly\",\n",
        "    \"Many thanks\",\n",
        "    \"Much obliged\",\n",
        "    \"I appreciate it\",\n",
        "    \"I'm grateful\",\n",
        "    \"I owe you one\",\n",
        "    \"I can't thank you enough\",\n",
        "    \"You're too kind\",\n",
        "    \"I'm so thankful\",\n",
        "    \"That's so thoughtful of you\",\n",
        "    \"I'm indebted to you\",\n",
        "    \"I'm grateful for your help\",\n",
        "    \"Thanks for everything\",\n",
        "    \"Thanks for your help\",\n",
        "    \"Thanks a ton\",\n",
        "    \"Thanks a heap\",\n",
        "    \"Thanks a bunch\",\n",
        "    \"I want to express my gratitude\",\n",
        "    \"I want to thank you from the bottom of my heart\",\n",
        "    \"I want to extend my appreciation\",\n",
        "    \"You have my thanks\",\n",
        "    \"I truly appreciate it\",\n",
        "    \"I really appreciate your help\"\n",
        "]\n"
      ]
    },
    {
      "cell_type": "code",
      "execution_count": 37,
      "metadata": {
        "colab": {
          "base_uri": "https://localhost:8080/"
        },
        "id": "3ejRSTNUmLiP",
        "outputId": "8d96d426-cdc6-45a2-e576-486323023fa9"
      },
      "outputs": [
        {
          "data": {
            "text/plain": [
              "(60, 42, 42, 30)"
            ]
          },
          "execution_count": 37,
          "metadata": {},
          "output_type": "execute_result"
        }
      ],
      "source": [
        "len(set(say_hello)), len(ask_information), len(ask_recommendation), len(thank_you)"
      ]
    },
    {
      "cell_type": "code",
      "execution_count": 38,
      "metadata": {
        "id": "snxnIq7TpoDo"
      },
      "outputs": [],
      "source": [
        "data = say_hello + ask_information + ask_recommendation + thank_you"
      ]
    },
    {
      "cell_type": "code",
      "execution_count": 39,
      "metadata": {
        "colab": {
          "base_uri": "https://localhost:8080/"
        },
        "id": "3gUGuqClqBFw",
        "outputId": "10467ed0-febf-48ee-d715-e91ecf01aae7"
      },
      "outputs": [
        {
          "data": {
            "text/plain": [
              "174"
            ]
          },
          "execution_count": 39,
          "metadata": {},
          "output_type": "execute_result"
        }
      ],
      "source": [
        "len(data)"
      ]
    },
    {
      "cell_type": "code",
      "execution_count": 40,
      "metadata": {
        "id": "xnCrVgwLrnol"
      },
      "outputs": [],
      "source": [
        "def labels(hello_list,info_list,recomm_list,thanks_list):\n",
        "  import numpy as np\n",
        "  import pandas as pd\n",
        "  text_list = list(set(hello_list)) + list(set(info_list)) + list(set(recomm_list))+ list(set(thanks_list))\n",
        "  n_text = len(text_list)\n",
        "  hello_range = len(set(hello_list))\n",
        "  info_range = hello_range+len(set(info_list))\n",
        "  recomm_range = info_range + len(set(recomm_list))\n",
        "  thanks_range = recomm_range + len(set(thanks_list))\n",
        "  df = pd.DataFrame({'text':data})\n",
        "  df['labels'] = None\n",
        "  df['labels'].iloc[0:hello_range] = 'hello_trigger'\n",
        "  df['labels'].iloc[hello_range:info_range] = 'info_trigger'\n",
        "  df['labels'].iloc[info_range:recomm_range] = 'recomm_trigger'\n",
        "  df['labels'].iloc[recomm_range:thanks_range+1] = 'thanks_trigger'\n",
        "  return df"
      ]
    },
    {
      "cell_type": "code",
      "execution_count": 41,
      "metadata": {
        "colab": {
          "base_uri": "https://localhost:8080/"
        },
        "id": "YzdLken04pPS",
        "outputId": "28113c21-f14b-4dff-cfab-34f7e01e0e6e"
      },
      "outputs": [
        {
          "name": "stderr",
          "output_type": "stream",
          "text": [
            "/tmp/ipykernel_26703/2111032620.py:12: FutureWarning: ChainedAssignmentError: behaviour will change in pandas 3.0!\n",
            "You are setting values through chained assignment. Currently this works in certain cases, but when using Copy-on-Write (which will become the default behaviour in pandas 3.0) this will never work to update the original DataFrame or Series, because the intermediate object on which we are setting values will behave as a copy.\n",
            "A typical example is when you are setting values in a column of a DataFrame, like:\n",
            "\n",
            "df[\"col\"][row_indexer] = value\n",
            "\n",
            "Use `df.loc[row_indexer, \"col\"] = values` instead, to perform the assignment in a single step and ensure this keeps updating the original `df`.\n",
            "\n",
            "See the caveats in the documentation: https://pandas.pydata.org/pandas-docs/stable/user_guide/indexing.html#returning-a-view-versus-a-copy\n",
            "\n",
            "  df['labels'].iloc[0:hello_range] = 'hello_trigger'\n",
            "/tmp/ipykernel_26703/2111032620.py:13: FutureWarning: ChainedAssignmentError: behaviour will change in pandas 3.0!\n",
            "You are setting values through chained assignment. Currently this works in certain cases, but when using Copy-on-Write (which will become the default behaviour in pandas 3.0) this will never work to update the original DataFrame or Series, because the intermediate object on which we are setting values will behave as a copy.\n",
            "A typical example is when you are setting values in a column of a DataFrame, like:\n",
            "\n",
            "df[\"col\"][row_indexer] = value\n",
            "\n",
            "Use `df.loc[row_indexer, \"col\"] = values` instead, to perform the assignment in a single step and ensure this keeps updating the original `df`.\n",
            "\n",
            "See the caveats in the documentation: https://pandas.pydata.org/pandas-docs/stable/user_guide/indexing.html#returning-a-view-versus-a-copy\n",
            "\n",
            "  df['labels'].iloc[hello_range:info_range] = 'info_trigger'\n",
            "/tmp/ipykernel_26703/2111032620.py:14: FutureWarning: ChainedAssignmentError: behaviour will change in pandas 3.0!\n",
            "You are setting values through chained assignment. Currently this works in certain cases, but when using Copy-on-Write (which will become the default behaviour in pandas 3.0) this will never work to update the original DataFrame or Series, because the intermediate object on which we are setting values will behave as a copy.\n",
            "A typical example is when you are setting values in a column of a DataFrame, like:\n",
            "\n",
            "df[\"col\"][row_indexer] = value\n",
            "\n",
            "Use `df.loc[row_indexer, \"col\"] = values` instead, to perform the assignment in a single step and ensure this keeps updating the original `df`.\n",
            "\n",
            "See the caveats in the documentation: https://pandas.pydata.org/pandas-docs/stable/user_guide/indexing.html#returning-a-view-versus-a-copy\n",
            "\n",
            "  df['labels'].iloc[info_range:recomm_range] = 'recomm_trigger'\n",
            "/tmp/ipykernel_26703/2111032620.py:15: FutureWarning: ChainedAssignmentError: behaviour will change in pandas 3.0!\n",
            "You are setting values through chained assignment. Currently this works in certain cases, but when using Copy-on-Write (which will become the default behaviour in pandas 3.0) this will never work to update the original DataFrame or Series, because the intermediate object on which we are setting values will behave as a copy.\n",
            "A typical example is when you are setting values in a column of a DataFrame, like:\n",
            "\n",
            "df[\"col\"][row_indexer] = value\n",
            "\n",
            "Use `df.loc[row_indexer, \"col\"] = values` instead, to perform the assignment in a single step and ensure this keeps updating the original `df`.\n",
            "\n",
            "See the caveats in the documentation: https://pandas.pydata.org/pandas-docs/stable/user_guide/indexing.html#returning-a-view-versus-a-copy\n",
            "\n",
            "  df['labels'].iloc[recomm_range:thanks_range+1] = 'thanks_trigger'\n"
          ]
        },
        {
          "data": {
            "text/plain": [
              "labels\n",
              "hello_trigger     60\n",
              "info_trigger      42\n",
              "recomm_trigger    42\n",
              "thanks_trigger    30\n",
              "Name: count, dtype: int64"
            ]
          },
          "execution_count": 41,
          "metadata": {},
          "output_type": "execute_result"
        }
      ],
      "source": [
        "labels(say_hello,ask_information,ask_recommendation,thank_you)['labels'].value_counts()"
      ]
    },
    {
      "cell_type": "code",
      "execution_count": 42,
      "metadata": {
        "colab": {
          "base_uri": "https://localhost:8080/",
          "height": 423
        },
        "id": "Ehi-N9_S5pqX",
        "outputId": "6a3148fc-78c4-4148-ed5f-3343d4ff6a70"
      },
      "outputs": [
        {
          "name": "stderr",
          "output_type": "stream",
          "text": [
            "/tmp/ipykernel_26703/2111032620.py:12: FutureWarning: ChainedAssignmentError: behaviour will change in pandas 3.0!\n",
            "You are setting values through chained assignment. Currently this works in certain cases, but when using Copy-on-Write (which will become the default behaviour in pandas 3.0) this will never work to update the original DataFrame or Series, because the intermediate object on which we are setting values will behave as a copy.\n",
            "A typical example is when you are setting values in a column of a DataFrame, like:\n",
            "\n",
            "df[\"col\"][row_indexer] = value\n",
            "\n",
            "Use `df.loc[row_indexer, \"col\"] = values` instead, to perform the assignment in a single step and ensure this keeps updating the original `df`.\n",
            "\n",
            "See the caveats in the documentation: https://pandas.pydata.org/pandas-docs/stable/user_guide/indexing.html#returning-a-view-versus-a-copy\n",
            "\n",
            "  df['labels'].iloc[0:hello_range] = 'hello_trigger'\n",
            "/tmp/ipykernel_26703/2111032620.py:13: FutureWarning: ChainedAssignmentError: behaviour will change in pandas 3.0!\n",
            "You are setting values through chained assignment. Currently this works in certain cases, but when using Copy-on-Write (which will become the default behaviour in pandas 3.0) this will never work to update the original DataFrame or Series, because the intermediate object on which we are setting values will behave as a copy.\n",
            "A typical example is when you are setting values in a column of a DataFrame, like:\n",
            "\n",
            "df[\"col\"][row_indexer] = value\n",
            "\n",
            "Use `df.loc[row_indexer, \"col\"] = values` instead, to perform the assignment in a single step and ensure this keeps updating the original `df`.\n",
            "\n",
            "See the caveats in the documentation: https://pandas.pydata.org/pandas-docs/stable/user_guide/indexing.html#returning-a-view-versus-a-copy\n",
            "\n",
            "  df['labels'].iloc[hello_range:info_range] = 'info_trigger'\n",
            "/tmp/ipykernel_26703/2111032620.py:14: FutureWarning: ChainedAssignmentError: behaviour will change in pandas 3.0!\n",
            "You are setting values through chained assignment. Currently this works in certain cases, but when using Copy-on-Write (which will become the default behaviour in pandas 3.0) this will never work to update the original DataFrame or Series, because the intermediate object on which we are setting values will behave as a copy.\n",
            "A typical example is when you are setting values in a column of a DataFrame, like:\n",
            "\n",
            "df[\"col\"][row_indexer] = value\n",
            "\n",
            "Use `df.loc[row_indexer, \"col\"] = values` instead, to perform the assignment in a single step and ensure this keeps updating the original `df`.\n",
            "\n",
            "See the caveats in the documentation: https://pandas.pydata.org/pandas-docs/stable/user_guide/indexing.html#returning-a-view-versus-a-copy\n",
            "\n",
            "  df['labels'].iloc[info_range:recomm_range] = 'recomm_trigger'\n",
            "/tmp/ipykernel_26703/2111032620.py:15: FutureWarning: ChainedAssignmentError: behaviour will change in pandas 3.0!\n",
            "You are setting values through chained assignment. Currently this works in certain cases, but when using Copy-on-Write (which will become the default behaviour in pandas 3.0) this will never work to update the original DataFrame or Series, because the intermediate object on which we are setting values will behave as a copy.\n",
            "A typical example is when you are setting values in a column of a DataFrame, like:\n",
            "\n",
            "df[\"col\"][row_indexer] = value\n",
            "\n",
            "Use `df.loc[row_indexer, \"col\"] = values` instead, to perform the assignment in a single step and ensure this keeps updating the original `df`.\n",
            "\n",
            "See the caveats in the documentation: https://pandas.pydata.org/pandas-docs/stable/user_guide/indexing.html#returning-a-view-versus-a-copy\n",
            "\n",
            "  df['labels'].iloc[recomm_range:thanks_range+1] = 'thanks_trigger'\n"
          ]
        },
        {
          "data": {
            "text/html": [
              "<div>\n",
              "<style scoped>\n",
              "    .dataframe tbody tr th:only-of-type {\n",
              "        vertical-align: middle;\n",
              "    }\n",
              "\n",
              "    .dataframe tbody tr th {\n",
              "        vertical-align: top;\n",
              "    }\n",
              "\n",
              "    .dataframe thead th {\n",
              "        text-align: right;\n",
              "    }\n",
              "</style>\n",
              "<table border=\"1\" class=\"dataframe\">\n",
              "  <thead>\n",
              "    <tr style=\"text-align: right;\">\n",
              "      <th></th>\n",
              "      <th>text</th>\n",
              "      <th>labels</th>\n",
              "    </tr>\n",
              "  </thead>\n",
              "  <tbody>\n",
              "    <tr>\n",
              "      <th>0</th>\n",
              "      <td>Hello</td>\n",
              "      <td>hello_trigger</td>\n",
              "    </tr>\n",
              "    <tr>\n",
              "      <th>1</th>\n",
              "      <td>Good morning</td>\n",
              "      <td>hello_trigger</td>\n",
              "    </tr>\n",
              "    <tr>\n",
              "      <th>2</th>\n",
              "      <td>Good afternoon</td>\n",
              "      <td>hello_trigger</td>\n",
              "    </tr>\n",
              "    <tr>\n",
              "      <th>3</th>\n",
              "      <td>Good evening</td>\n",
              "      <td>hello_trigger</td>\n",
              "    </tr>\n",
              "    <tr>\n",
              "      <th>4</th>\n",
              "      <td>Hi, how are you?</td>\n",
              "      <td>hello_trigger</td>\n",
              "    </tr>\n",
              "    <tr>\n",
              "      <th>...</th>\n",
              "      <td>...</td>\n",
              "      <td>...</td>\n",
              "    </tr>\n",
              "    <tr>\n",
              "      <th>169</th>\n",
              "      <td>I want to thank you from the bottom of my heart</td>\n",
              "      <td>thanks_trigger</td>\n",
              "    </tr>\n",
              "    <tr>\n",
              "      <th>170</th>\n",
              "      <td>I want to extend my appreciation</td>\n",
              "      <td>thanks_trigger</td>\n",
              "    </tr>\n",
              "    <tr>\n",
              "      <th>171</th>\n",
              "      <td>You have my thanks</td>\n",
              "      <td>thanks_trigger</td>\n",
              "    </tr>\n",
              "    <tr>\n",
              "      <th>172</th>\n",
              "      <td>I truly appreciate it</td>\n",
              "      <td>thanks_trigger</td>\n",
              "    </tr>\n",
              "    <tr>\n",
              "      <th>173</th>\n",
              "      <td>I really appreciate your help</td>\n",
              "      <td>thanks_trigger</td>\n",
              "    </tr>\n",
              "  </tbody>\n",
              "</table>\n",
              "<p>174 rows × 2 columns</p>\n",
              "</div>"
            ],
            "text/plain": [
              "                                                text          labels\n",
              "0                                              Hello   hello_trigger\n",
              "1                                       Good morning   hello_trigger\n",
              "2                                     Good afternoon   hello_trigger\n",
              "3                                       Good evening   hello_trigger\n",
              "4                                   Hi, how are you?   hello_trigger\n",
              "..                                               ...             ...\n",
              "169  I want to thank you from the bottom of my heart  thanks_trigger\n",
              "170                 I want to extend my appreciation  thanks_trigger\n",
              "171                               You have my thanks  thanks_trigger\n",
              "172                            I truly appreciate it  thanks_trigger\n",
              "173                    I really appreciate your help  thanks_trigger\n",
              "\n",
              "[174 rows x 2 columns]"
            ]
          },
          "execution_count": 42,
          "metadata": {},
          "output_type": "execute_result"
        }
      ],
      "source": [
        "df = labels(say_hello,ask_information,ask_recommendation,thank_you)\n",
        "df"
      ]
    },
    {
      "cell_type": "code",
      "execution_count": 43,
      "metadata": {
        "id": "MQhIVE9-pYkS"
      },
      "outputs": [],
      "source": [
        "from sklearn.feature_extraction.text import CountVectorizer\n",
        "cv = CountVectorizer(lowercase = True,stop_words=None)\n",
        "bow = cv.fit_transform(data).toarray()"
      ]
    },
    {
      "cell_type": "code",
      "execution_count": 44,
      "metadata": {
        "colab": {
          "base_uri": "https://localhost:8080/"
        },
        "id": "KlQJglHWq4_x",
        "outputId": "072f9990-801b-4cf8-d05c-6a2d0b5a1a6d"
      },
      "outputs": [
        {
          "data": {
            "text/plain": [
              "(174, 177)"
            ]
          },
          "execution_count": 44,
          "metadata": {},
          "output_type": "execute_result"
        }
      ],
      "source": [
        "bow.shape"
      ]
    },
    {
      "cell_type": "code",
      "execution_count": 45,
      "metadata": {
        "colab": {
          "base_uri": "https://localhost:8080/"
        },
        "id": "d4PzgINwq9bV",
        "outputId": "5be72b8e-4a62-4da7-a6d2-97f6d932f9f5"
      },
      "outputs": [
        {
          "data": {
            "text/plain": [
              "array([0, 0, 0, 0, 0, 0, 0, 0, 0, 0, 0, 0, 0, 0, 0, 0, 0, 0, 0, 0, 0, 0,\n",
              "       0, 0, 0, 0, 0, 0, 0, 0, 0, 0, 0, 0, 0, 0, 0, 0, 0, 0, 0, 0, 0, 0,\n",
              "       0, 0, 0, 0, 0, 0, 0, 0, 0, 0, 0, 0, 0, 0, 0, 0, 0, 0, 0, 0, 0, 0,\n",
              "       0, 0, 0, 0, 0, 0, 0, 0, 0, 0, 0, 0, 0, 0, 0, 0, 0, 0, 0, 0, 0, 0,\n",
              "       0, 0, 0, 0, 0, 0, 0, 0, 0, 0, 0, 0, 0, 0, 0, 0, 0, 0, 0, 0, 0, 0,\n",
              "       0, 0, 0, 0, 0, 0, 0, 0, 0, 0, 0, 0, 0, 0, 0, 0, 0, 0, 0, 0, 0, 0,\n",
              "       0, 1, 0, 0, 0, 0, 0, 0, 0, 0, 0, 0, 0, 0, 0, 0, 0, 0, 0, 0, 0, 0,\n",
              "       0, 0, 0, 0, 0, 0, 0, 0, 0, 1, 0, 0, 1, 0, 0, 0, 0, 0, 0, 0, 0, 0,\n",
              "       0])"
            ]
          },
          "execution_count": 45,
          "metadata": {},
          "output_type": "execute_result"
        }
      ],
      "source": [
        "bow[141]"
      ]
    },
    {
      "cell_type": "code",
      "execution_count": 46,
      "metadata": {
        "id": "XAzfAKK_57K0"
      },
      "outputs": [],
      "source": [
        "x = bow\n",
        "y = df['labels'].values"
      ]
    },
    {
      "cell_type": "code",
      "execution_count": 47,
      "metadata": {
        "colab": {
          "base_uri": "https://localhost:8080/"
        },
        "id": "jakr8lHC6Mf_",
        "outputId": "fb777f74-e4dd-47de-c01b-83021b810291"
      },
      "outputs": [
        {
          "data": {
            "text/plain": [
              "(174, 174)"
            ]
          },
          "execution_count": 47,
          "metadata": {},
          "output_type": "execute_result"
        }
      ],
      "source": [
        "len(x), len(y)"
      ]
    },
    {
      "cell_type": "code",
      "execution_count": 48,
      "metadata": {
        "colab": {
          "base_uri": "https://localhost:8080/"
        },
        "id": "zkhLPXRc6Fu-",
        "outputId": "0d515dc1-bfc2-443a-ac17-7df2f4502243"
      },
      "outputs": [
        {
          "data": {
            "text/plain": [
              "('Hello there!',\n",
              " array([0, 0, 0, 0, 0, 0, 0, 0, 0, 0, 0, 0, 0, 0, 0, 0, 0, 0, 0, 0, 0, 0,\n",
              "        0, 0, 0, 0, 0, 0, 0, 0, 0, 0, 0, 0, 0, 0, 0, 0, 0, 0, 0, 0, 0, 0,\n",
              "        0, 0, 0, 0, 0, 0, 0, 0, 0, 0, 0, 0, 0, 0, 1, 0, 0, 0, 0, 0, 0, 0,\n",
              "        0, 0, 0, 0, 0, 0, 0, 0, 0, 0, 0, 0, 0, 0, 0, 0, 0, 0, 0, 0, 0, 0,\n",
              "        0, 0, 0, 0, 0, 0, 0, 0, 0, 0, 0, 0, 0, 0, 0, 0, 0, 0, 0, 0, 0, 0,\n",
              "        0, 0, 0, 0, 0, 0, 0, 0, 0, 0, 0, 0, 0, 0, 0, 0, 0, 0, 0, 0, 0, 0,\n",
              "        0, 0, 0, 0, 0, 0, 0, 0, 0, 0, 0, 0, 0, 0, 1, 0, 0, 0, 0, 0, 0, 0,\n",
              "        0, 0, 0, 0, 0, 0, 0, 0, 0, 0, 0, 0, 0, 0, 0, 0, 0, 0, 0, 0, 0, 0,\n",
              "        0]),\n",
              " 'hello_trigger')"
            ]
          },
          "execution_count": 48,
          "metadata": {},
          "output_type": "execute_result"
        }
      ],
      "source": [
        "list(zip(data,x,y))[10]"
      ]
    },
    {
      "cell_type": "code",
      "execution_count": 49,
      "metadata": {
        "id": "0HLk_YH46fPT"
      },
      "outputs": [],
      "source": [
        "from sklearn.model_selection import train_test_split\n",
        "from sklearn.linear_model import LogisticRegression\n",
        "from sklearn.preprocessing import LabelEncoder"
      ]
    },
    {
      "cell_type": "code",
      "execution_count": 50,
      "metadata": {
        "id": "HfhzA54565oo"
      },
      "outputs": [],
      "source": [
        "encoder = LabelEncoder().fit(y)"
      ]
    },
    {
      "cell_type": "code",
      "execution_count": 51,
      "metadata": {
        "id": "UavQNjcw7OrA"
      },
      "outputs": [],
      "source": [
        " y_encoded = encoder.transform(y)"
      ]
    },
    {
      "cell_type": "code",
      "execution_count": 52,
      "metadata": {
        "colab": {
          "base_uri": "https://localhost:8080/"
        },
        "id": "RpGwg4v27W2J",
        "outputId": "cf40cde8-98df-401d-b20f-98ce0dc3216d"
      },
      "outputs": [
        {
          "data": {
            "text/plain": [
              "array([0, 0, 0, 0, 0, 0, 0, 0, 0, 0, 0, 0, 0, 0, 0, 0, 0, 0, 0, 0, 0, 0,\n",
              "       0, 0, 0, 0, 0, 0, 0, 0, 0, 0, 0, 0, 0, 0, 0, 0, 0, 0, 0, 0, 0, 0,\n",
              "       0, 0, 0, 0, 0, 0, 0, 0, 0, 0, 0, 0, 0, 0, 0, 0, 1, 1, 1, 1, 1, 1,\n",
              "       1, 1, 1, 1, 1, 1, 1, 1, 1, 1, 1, 1, 1, 1, 1, 1, 1, 1, 1, 1, 1, 1,\n",
              "       1, 1, 1, 1, 1, 1, 1, 1, 1, 1, 1, 1, 1, 1, 2, 2, 2, 2, 2, 2, 2, 2,\n",
              "       2, 2, 2, 2, 2, 2, 2, 2, 2, 2, 2, 2, 2, 2, 2, 2, 2, 2, 2, 2, 2, 2,\n",
              "       2, 2, 2, 2, 2, 2, 2, 2, 2, 2, 2, 2, 3, 3, 3, 3, 3, 3, 3, 3, 3, 3,\n",
              "       3, 3, 3, 3, 3, 3, 3, 3, 3, 3, 3, 3, 3, 3, 3, 3, 3, 3, 3, 3])"
            ]
          },
          "execution_count": 52,
          "metadata": {},
          "output_type": "execute_result"
        }
      ],
      "source": [
        "y_encoded"
      ]
    },
    {
      "cell_type": "code",
      "execution_count": 53,
      "metadata": {
        "id": "lvShfVHx6m3F"
      },
      "outputs": [],
      "source": [
        "x_train, x_test, y_train, y_test = train_test_split(x, y_encoded, test_size=0.3, shuffle=True, random_state=0)"
      ]
    },
    {
      "cell_type": "code",
      "execution_count": 54,
      "metadata": {
        "colab": {
          "base_uri": "https://localhost:8080/"
        },
        "id": "_9MlEt5C7wDw",
        "outputId": "115b21a8-98a7-49f5-ccf8-71631b4e5619"
      },
      "outputs": [
        {
          "name": "stdout",
          "output_type": "stream",
          "text": [
            "121 53 121 53\n"
          ]
        }
      ],
      "source": [
        "print(len(x_train), len(x_test), len(y_train), len(y_test))"
      ]
    },
    {
      "cell_type": "code",
      "execution_count": 55,
      "metadata": {
        "id": "3HuttQPr8CNh"
      },
      "outputs": [],
      "source": [
        "model = LogisticRegression(multi_class='multinomial')"
      ]
    },
    {
      "cell_type": "code",
      "execution_count": 56,
      "metadata": {
        "colab": {
          "base_uri": "https://localhost:8080/"
        },
        "id": "lYRTUZy08Kij",
        "outputId": "803ce240-6dad-4485-9621-28c64a484288"
      },
      "outputs": [
        {
          "name": "stdout",
          "output_type": "stream",
          "text": [
            "0.9245283018867925\n",
            "[[19  0  0  0]\n",
            " [ 1 10  1  0]\n",
            " [ 0  0 12  1]\n",
            " [ 0  1  0  8]]\n"
          ]
        },
        {
          "name": "stderr",
          "output_type": "stream",
          "text": [
            "/home/ackerman/anaconda3/envs/chatbot_nltk/lib/python3.12/site-packages/sklearn/linear_model/_logistic.py:1247: FutureWarning: 'multi_class' was deprecated in version 1.5 and will be removed in 1.7. From then on, it will always use 'multinomial'. Leave it to its default value to avoid this warning.\n",
            "  warnings.warn(\n"
          ]
        }
      ],
      "source": [
        "from sklearn.metrics import accuracy_score, confusion_matrix\n",
        "model.fit(x_train,y_train)\n",
        "pred = model.predict(x_test)\n",
        "print(accuracy_score(y_pred=pred,y_true=y_test))\n",
        "print(confusion_matrix(y_pred=pred,y_true=y_test))"
      ]
    },
    {
      "cell_type": "code",
      "execution_count": 57,
      "metadata": {
        "id": "ovcJoMEwDe-K"
      },
      "outputs": [],
      "source": [
        "hello = [\n",
        "    \"Hello\",\n",
        "    \"Hi\",\n",
        "    \"Hey\",\n",
        "    \"Hi there\",\n",
        "    \"Hey there\",\n",
        "    \"Greetings\",\n",
        "    \"Howdy\",\n",
        "    \"Yo\",\n",
        "    \"Hiya\",\n",
        "    \"Hello there\",\n",
        "    \"Well hello\",\n",
        "    \"Hiya\",\n",
        "    \"Hey buddy\",\n",
        "    \"Hi folks\",\n",
        "    \"Hi everyone\",\n",
        "    \"Hi friends\",\n",
        "    \"What's up\",\n",
        "    \"Hey ya\",\n",
        "    \"Good to see you\",\n",
        "    \"Nice to see you\"\n",
        "]"
      ]
    },
    {
      "cell_type": "code",
      "execution_count": 58,
      "metadata": {
        "id": "8qTGydVeD72z"
      },
      "outputs": [],
      "source": [
        "responses_to_thank_you = [\n",
        "    \"You're welcome\",\n",
        "    \"No problem\",\n",
        "    \"No worries\",\n",
        "    \"Don't mention it\",\n",
        "    \"It was nothing\",\n",
        "    \"My pleasure\",\n",
        "    \"Anytime\",\n",
        "    \"Sure thing\",\n",
        "    \"You got it\",\n",
        "    \"Glad to help\",\n",
        "    \"Happy to help\",\n",
        "    \"That's okay\",\n",
        "    \"Not at all\",\n",
        "    \"It's my pleasure\",\n",
        "    \"I'm happy to assist\",\n",
        "    \"It's no trouble at all\",\n",
        "    \"I'm glad you liked it\",\n",
        "    \"You're very welcome\",\n",
        "    \"It's the least I could do\",\n",
        "    \"Of course\"\n",
        "]"
      ]
    },
    {
      "cell_type": "code",
      "execution_count": 59,
      "metadata": {
        "id": "z7LTGvPJEQbD"
      },
      "outputs": [],
      "source": [
        "enjoy_messages = [\n",
        "    \"Enjoy!\",\n",
        "    \"Have fun!\",\n",
        "    \"Have a great time!\",\n",
        "    \"Enjoy yourself!\",\n",
        "    \"Have a blast!\",\n",
        "    \"Make the most of it!\",\n",
        "    \"Hope you have a good one!\",\n",
        "    \"Wishing you a great time!\",\n",
        "    \"Hope it's a good one!\",\n",
        "    \"Have a good one!\",\n",
        "    \"Hope you enjoy it!\",\n",
        "    \"Make it a great one!\",\n",
        "    \"Hope you have a fantastic time!\",\n",
        "    \"Enjoy every moment!\",\n",
        "    \"Make the most of your day!\",\n",
        "    \"Wishing you lots of fun!\",\n",
        "    \"Have an awesome time!\",\n",
        "    \"Hope you have a wonderful time!\"\n",
        "]"
      ]
    },
    {
      "cell_type": "code",
      "execution_count": 60,
      "metadata": {},
      "outputs": [],
      "source": [
        "import joblib\n",
        "joblib.dump(model,open('../english_version/models/base_model.joblib','wb'))"
      ]
    },
    {
      "cell_type": "code",
      "execution_count": 61,
      "metadata": {},
      "outputs": [],
      "source": [
        "import pickle\n",
        "pickle.dump(encoder,open('../english_version/objects/base_encoder','wb'))"
      ]
    },
    {
      "cell_type": "code",
      "execution_count": 62,
      "metadata": {},
      "outputs": [],
      "source": [
        "import pickle\n",
        "joblib.dump(cv,open('../english_version/objects/base_vectorizer','wb'))"
      ]
    },
    {
      "cell_type": "code",
      "execution_count": 63,
      "metadata": {},
      "outputs": [
        {
          "data": {
            "text/plain": [
              "array(['hello_trigger'], dtype=object)"
            ]
          },
          "execution_count": 63,
          "metadata": {},
          "output_type": "execute_result"
        }
      ],
      "source": [
        "encoder.inverse_transform([0])"
      ]
    },
    {
      "cell_type": "code",
      "execution_count": 64,
      "metadata": {
        "colab": {
          "base_uri": "https://localhost:8080/",
          "height": 495
        },
        "id": "o4ZNH82d8vBM",
        "outputId": "8dd36d5b-d3af-46af-9626-f7d67585a079"
      },
      "outputs": [],
      "source": [
        "# while True:\n",
        "#   import random\n",
        "#   import numpy as np\n",
        "#   texto = input()\n",
        "#   matrix = cv.transform([texto]).toarray()\n",
        "#   pred = model.predict(matrix)\n",
        "#   pred_label = encoder.inverse_transform(pred)\n",
        "#   if pred_label == np.array('hello_trigger'):\n",
        "#     print(f'{random.choice(hello)} what can i do for you')\n",
        "#   elif pred_label == np.array('info_trigger'):\n",
        "#     print('of corse muy functions are...')\n",
        "#   elif pred_label == np.array('recomm_trigger'):\n",
        "#     print(f'sure i left you a buttom to go movies system {random.choice(enjoy_messages)}')\n",
        "#   elif pred_label == np.array('thanks_trigger'):\n",
        "#     print(f'{random.choice(responses_to_thank_you)}')"
      ]
    }
  ],
  "metadata": {
    "colab": {
      "provenance": []
    },
    "kernelspec": {
      "display_name": "Python 3",
      "name": "python3"
    },
    "language_info": {
      "codemirror_mode": {
        "name": "ipython",
        "version": 3
      },
      "file_extension": ".py",
      "mimetype": "text/x-python",
      "name": "python",
      "nbconvert_exporter": "python",
      "pygments_lexer": "ipython3",
      "version": "3.12.3"
    }
  },
  "nbformat": 4,
  "nbformat_minor": 0
}
