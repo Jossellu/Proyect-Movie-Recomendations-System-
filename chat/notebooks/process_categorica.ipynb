{
 "cells": [
  {
   "cell_type": "code",
   "execution_count": 2,
   "metadata": {},
   "outputs": [],
   "source": [
    "import pandas as pd"
   ]
  },
  {
   "cell_type": "code",
   "execution_count": 3,
   "metadata": {},
   "outputs": [
    {
     "data": {
      "text/html": [
       "<div>\n",
       "<style scoped>\n",
       "    .dataframe tbody tr th:only-of-type {\n",
       "        vertical-align: middle;\n",
       "    }\n",
       "\n",
       "    .dataframe tbody tr th {\n",
       "        vertical-align: top;\n",
       "    }\n",
       "\n",
       "    .dataframe thead th {\n",
       "        text-align: right;\n",
       "    }\n",
       "</style>\n",
       "<table border=\"1\" class=\"dataframe\">\n",
       "  <thead>\n",
       "    <tr style=\"text-align: right;\">\n",
       "      <th></th>\n",
       "      <th>text</th>\n",
       "      <th>recomen_cat</th>\n",
       "    </tr>\n",
       "  </thead>\n",
       "  <tbody>\n",
       "    <tr>\n",
       "      <th>0</th>\n",
       "      <td>las mas buscadas</td>\n",
       "      <td>crticica</td>\n",
       "    </tr>\n",
       "    <tr>\n",
       "      <th>1</th>\n",
       "      <td>las mas rateadas</td>\n",
       "      <td>crticica</td>\n",
       "    </tr>\n",
       "    <tr>\n",
       "      <th>2</th>\n",
       "      <td>mejor rating</td>\n",
       "      <td>crticica</td>\n",
       "    </tr>\n",
       "    <tr>\n",
       "      <th>3</th>\n",
       "      <td>mejor critica</td>\n",
       "      <td>crticica</td>\n",
       "    </tr>\n",
       "    <tr>\n",
       "      <th>4</th>\n",
       "      <td>mas valoradas</td>\n",
       "      <td>crticica</td>\n",
       "    </tr>\n",
       "    <tr>\n",
       "      <th>...</th>\n",
       "      <td>...</td>\n",
       "      <td>...</td>\n",
       "    </tr>\n",
       "    <tr>\n",
       "      <th>177</th>\n",
       "      <td>personalizada</td>\n",
       "      <td>similitud</td>\n",
       "    </tr>\n",
       "    <tr>\n",
       "      <th>178</th>\n",
       "      <td>me recomiendas a mi</td>\n",
       "      <td>similitud</td>\n",
       "    </tr>\n",
       "    <tr>\n",
       "      <th>179</th>\n",
       "      <td>hecho para mi</td>\n",
       "      <td>similitud</td>\n",
       "    </tr>\n",
       "    <tr>\n",
       "      <th>180</th>\n",
       "      <td>son para mi</td>\n",
       "      <td>similitud</td>\n",
       "    </tr>\n",
       "    <tr>\n",
       "      <th>181</th>\n",
       "      <td>me la hicieron</td>\n",
       "      <td>similitud</td>\n",
       "    </tr>\n",
       "  </tbody>\n",
       "</table>\n",
       "<p>182 rows × 2 columns</p>\n",
       "</div>"
      ],
      "text/plain": [
       "                    text recomen_cat\n",
       "0       las mas buscadas    crticica\n",
       "1       las mas rateadas    crticica\n",
       "2           mejor rating    crticica\n",
       "3          mejor critica    crticica\n",
       "4          mas valoradas    crticica\n",
       "..                   ...         ...\n",
       "177        personalizada   similitud\n",
       "178  me recomiendas a mi   similitud\n",
       "179        hecho para mi   similitud\n",
       "180          son para mi   similitud\n",
       "181       me la hicieron   similitud\n",
       "\n",
       "[182 rows x 2 columns]"
      ]
     },
     "execution_count": 3,
     "metadata": {},
     "output_type": "execute_result"
    }
   ],
   "source": [
    "raw_df = pd.read_excel('../data/raw_data/modelo_recom.xlsx')\n",
    "raw_df"
   ]
  },
  {
   "cell_type": "code",
   "execution_count": 4,
   "metadata": {},
   "outputs": [
    {
     "name": "stderr",
     "output_type": "stream",
     "text": [
      "[nltk_data] Downloading package punkt to /home/ackerman/nltk_data...\n",
      "[nltk_data]   Package punkt is already up-to-date!\n"
     ]
    },
    {
     "data": {
      "text/plain": [
       "'las mas buscadas las mas rateadas mejor rating mejor critica mas valoradas aclamada buenas criticas altas calificaciones expertos elogios destacado especializados criticos calidad reconocimiento premiado sobresaliente alabada puntuacion elevada resenas guion favorables excelente pureza positivo exito taquilla mucha audiencia rompe records recaudacion gran exitos todo el mundo exitoso en el mundo pop multitudes fenomenos globales millones miles gran publico reonocida enormes mucho dinero muchas vistas destacado no dan abasto sobresaturado mas conocidas muy vista reventar producciones masivas montones recientemente ultimos dias recien estrenado lanzado ultimamente ultimo estreno gran estreno actuales boca de todos salas saturadas carteleras en cines muchos cines es tendencia mucha gente redes sociales debutado este ano acaba de salir justo salio netlfix hbo max disney salio hoy sale manana en la madrugada aqui no ha salido direccion cinematografico septimo arte arte cinefilo teatros igual a los libros de culto culto sobresaliente diferente no comparacion no hay igual seguidores devotos clasicos de cine cine obra de arte infravalorado singularidad legendaria buena reputacion muy apasionado underground joya gema subestimada comedias terror suspenos miedo gritos emocion accion romance romatico enamorado drama risas rerir noche oscuridad ciencia ficcion vida real documentales aliens zombies futurista super heroes fuera de la tierra animadas vaqueros aventuras cualquiera la que sea la que quieras tu quieras no me decido como quieras hazlo por mi  da igual cual sea no me importa cual como me digas tu consideracion tus gustos lo que a ti te gusta sorprendeme iluminame una buena una chingona una buenisima como tu veas tu sugiere tu mandas tu decide tu hazlo cualquiera que tu yo no estoy seguro para mi cualquiera similares a este de mi gusto  para mi gusto lo que a me encanta lo que yo veo  a mi me gustan a nosotros nos gusta que se parezca que sea igual a  que sea como  igualito a muy parecido a  que trate lo mismo sea de lo mismo identico a sean iguales que sea copia  mismito a  yo prefiero las preferiria mis una para mi  personalizada me recomiendas a mi hecho para mi son para mi me la hicieron'"
      ]
     },
     "execution_count": 4,
     "metadata": {},
     "output_type": "execute_result"
    }
   ],
   "source": [
    "from text_2_bow_stopsTrue import generate_bowler, generate_df\n",
    "model_generated = generate_bowler(raw_df['text'])\n",
    "model_generated.show_full_data"
   ]
  },
  {
   "cell_type": "code",
   "execution_count": 5,
   "metadata": {},
   "outputs": [
    {
     "data": {
      "text/html": [
       "<div>\n",
       "<style scoped>\n",
       "    .dataframe tbody tr th:only-of-type {\n",
       "        vertical-align: middle;\n",
       "    }\n",
       "\n",
       "    .dataframe tbody tr th {\n",
       "        vertical-align: top;\n",
       "    }\n",
       "\n",
       "    .dataframe thead th {\n",
       "        text-align: right;\n",
       "    }\n",
       "</style>\n",
       "<table border=\"1\" class=\"dataframe\">\n",
       "  <thead>\n",
       "    <tr style=\"text-align: right;\">\n",
       "      <th></th>\n",
       "      <th>original text</th>\n",
       "      <th>text_clean</th>\n",
       "      <th>tokens</th>\n",
       "      <th>lemms</th>\n",
       "      <th>matrices</th>\n",
       "    </tr>\n",
       "  </thead>\n",
       "  <tbody>\n",
       "    <tr>\n",
       "      <th>0</th>\n",
       "      <td>las mas buscadas</td>\n",
       "      <td>las mas buscadas</td>\n",
       "      <td>[las, mas, buscadas]</td>\n",
       "      <td>[las, mas, busc]</td>\n",
       "      <td>[0.0, 0.0, 0.0, 0.0, 0.0, 0.0, 0.0, 0.0, 0.0, ...</td>\n",
       "    </tr>\n",
       "    <tr>\n",
       "      <th>1</th>\n",
       "      <td>las mas rateadas</td>\n",
       "      <td>las mas rateadas</td>\n",
       "      <td>[las, mas, rateadas]</td>\n",
       "      <td>[las, mas, rat]</td>\n",
       "      <td>[0.0, 0.0, 0.0, 0.0, 0.0, 0.0, 0.0, 0.0, 0.0, ...</td>\n",
       "    </tr>\n",
       "    <tr>\n",
       "      <th>2</th>\n",
       "      <td>mejor rating</td>\n",
       "      <td>mejor rating</td>\n",
       "      <td>[mejor, rating]</td>\n",
       "      <td>[mejor, rating]</td>\n",
       "      <td>[0.0, 0.0, 0.0, 0.0, 0.0, 0.0, 0.0, 0.0, 0.0, ...</td>\n",
       "    </tr>\n",
       "    <tr>\n",
       "      <th>3</th>\n",
       "      <td>mejor critica</td>\n",
       "      <td>mejor critica</td>\n",
       "      <td>[mejor, critica]</td>\n",
       "      <td>[mejor, critic]</td>\n",
       "      <td>[0.0, 0.0, 0.0, 0.0, 0.0, 0.0, 0.0, 0.0, 0.0, ...</td>\n",
       "    </tr>\n",
       "    <tr>\n",
       "      <th>4</th>\n",
       "      <td>mas valoradas</td>\n",
       "      <td>mas valoradas</td>\n",
       "      <td>[mas, valoradas]</td>\n",
       "      <td>[mas, valor]</td>\n",
       "      <td>[0.0, 0.0, 0.0, 0.0, 0.0, 0.0, 0.0, 0.0, 0.0, ...</td>\n",
       "    </tr>\n",
       "    <tr>\n",
       "      <th>...</th>\n",
       "      <td>...</td>\n",
       "      <td>...</td>\n",
       "      <td>...</td>\n",
       "      <td>...</td>\n",
       "      <td>...</td>\n",
       "    </tr>\n",
       "    <tr>\n",
       "      <th>177</th>\n",
       "      <td>personalizada</td>\n",
       "      <td>personalizada</td>\n",
       "      <td>[personalizada]</td>\n",
       "      <td>[personaliz]</td>\n",
       "      <td>[0.0, 0.0, 0.0, 0.0, 0.0, 0.0, 0.0, 0.0, 0.0, ...</td>\n",
       "    </tr>\n",
       "    <tr>\n",
       "      <th>178</th>\n",
       "      <td>me recomiendas a mi</td>\n",
       "      <td>me recomiendas a mi</td>\n",
       "      <td>[me, recomiendas, a, mi]</td>\n",
       "      <td>[me, recomiend, a, mi]</td>\n",
       "      <td>[0.0, 0.0, 0.0, 0.0, 0.0, 0.0, 0.0, 0.0, 0.0, ...</td>\n",
       "    </tr>\n",
       "    <tr>\n",
       "      <th>179</th>\n",
       "      <td>hecho para mi</td>\n",
       "      <td>hecho para mi</td>\n",
       "      <td>[hecho, para, mi]</td>\n",
       "      <td>[hech, par, mi]</td>\n",
       "      <td>[0.0, 0.0, 0.0, 0.0, 0.0, 0.0, 0.0, 0.0, 0.0, ...</td>\n",
       "    </tr>\n",
       "    <tr>\n",
       "      <th>180</th>\n",
       "      <td>son para mi</td>\n",
       "      <td>son para mi</td>\n",
       "      <td>[son, para, mi]</td>\n",
       "      <td>[son, par, mi]</td>\n",
       "      <td>[0.0, 0.0, 0.0, 0.0, 0.0, 0.0, 0.0, 0.0, 0.0, ...</td>\n",
       "    </tr>\n",
       "    <tr>\n",
       "      <th>181</th>\n",
       "      <td>me la hicieron</td>\n",
       "      <td>me la hicieron</td>\n",
       "      <td>[me, la, hicieron]</td>\n",
       "      <td>[me, la, hic]</td>\n",
       "      <td>[0.0, 0.0, 0.0, 0.0, 0.0, 0.0, 0.0, 0.0, 0.0, ...</td>\n",
       "    </tr>\n",
       "  </tbody>\n",
       "</table>\n",
       "<p>182 rows × 5 columns</p>\n",
       "</div>"
      ],
      "text/plain": [
       "           original text           text_clean                    tokens  \\\n",
       "0       las mas buscadas     las mas buscadas      [las, mas, buscadas]   \n",
       "1       las mas rateadas     las mas rateadas      [las, mas, rateadas]   \n",
       "2           mejor rating         mejor rating           [mejor, rating]   \n",
       "3          mejor critica        mejor critica          [mejor, critica]   \n",
       "4          mas valoradas        mas valoradas          [mas, valoradas]   \n",
       "..                   ...                  ...                       ...   \n",
       "177        personalizada        personalizada           [personalizada]   \n",
       "178  me recomiendas a mi  me recomiendas a mi  [me, recomiendas, a, mi]   \n",
       "179        hecho para mi        hecho para mi         [hecho, para, mi]   \n",
       "180          son para mi          son para mi           [son, para, mi]   \n",
       "181       me la hicieron       me la hicieron        [me, la, hicieron]   \n",
       "\n",
       "                      lemms                                           matrices  \n",
       "0          [las, mas, busc]  [0.0, 0.0, 0.0, 0.0, 0.0, 0.0, 0.0, 0.0, 0.0, ...  \n",
       "1           [las, mas, rat]  [0.0, 0.0, 0.0, 0.0, 0.0, 0.0, 0.0, 0.0, 0.0, ...  \n",
       "2           [mejor, rating]  [0.0, 0.0, 0.0, 0.0, 0.0, 0.0, 0.0, 0.0, 0.0, ...  \n",
       "3           [mejor, critic]  [0.0, 0.0, 0.0, 0.0, 0.0, 0.0, 0.0, 0.0, 0.0, ...  \n",
       "4              [mas, valor]  [0.0, 0.0, 0.0, 0.0, 0.0, 0.0, 0.0, 0.0, 0.0, ...  \n",
       "..                      ...                                                ...  \n",
       "177            [personaliz]  [0.0, 0.0, 0.0, 0.0, 0.0, 0.0, 0.0, 0.0, 0.0, ...  \n",
       "178  [me, recomiend, a, mi]  [0.0, 0.0, 0.0, 0.0, 0.0, 0.0, 0.0, 0.0, 0.0, ...  \n",
       "179         [hech, par, mi]  [0.0, 0.0, 0.0, 0.0, 0.0, 0.0, 0.0, 0.0, 0.0, ...  \n",
       "180          [son, par, mi]  [0.0, 0.0, 0.0, 0.0, 0.0, 0.0, 0.0, 0.0, 0.0, ...  \n",
       "181           [me, la, hic]  [0.0, 0.0, 0.0, 0.0, 0.0, 0.0, 0.0, 0.0, 0.0, ...  \n",
       "\n",
       "[182 rows x 5 columns]"
      ]
     },
     "execution_count": 5,
     "metadata": {},
     "output_type": "execute_result"
    }
   ],
   "source": [
    "generated_df = generate_df(bowler_model=model_generated,text=raw_df['text'])\n",
    "generated_df"
   ]
  },
  {
   "cell_type": "code",
   "execution_count": 6,
   "metadata": {},
   "outputs": [
    {
     "data": {
      "text/plain": [
       "array(['abast', 'acab', 'accion', 'aclam', 'actual', 'alab', 'aliens',\n",
       "       'altas', 'anim', 'ano', 'apasion', 'aqui', 'arte', 'audienci',\n",
       "       'aventur', 'boc', 'buen', 'buenisim', 'busc', 'calid', 'calif',\n",
       "       'carteler', 'chingon', 'cienci', 'cin', 'cinefil', 'cinematograf',\n",
       "       'clasic', 'com', 'comedi', 'compar', 'conoc', 'consider', 'copi',\n",
       "       'critic', 'cual', 'cualqu', 'cult', 'da', 'dan', 'de', 'debut',\n",
       "       'dec', 'decid', 'destac', 'devot', 'dias', 'diferent', 'dig',\n",
       "       'diner', 'direccion', 'disney', 'documental', 'dram', 'el', 'elev',\n",
       "       'elogi', 'emocion', 'en', 'enamor', 'encant', 'enorm', 'es',\n",
       "       'especializ', 'este', 'estoy', 'estren', 'excelent', 'exit',\n",
       "       'expert', 'favor', 'fenomen', 'ficcion', 'fuer', 'futur', 'gem',\n",
       "       'gent', 'global', 'gran', 'grit', 'guion', 'gust', 'ha', 'hay',\n",
       "       'hazl', 'hbo', 'hech', 'her', 'hic', 'hoy', 'ident', 'igual',\n",
       "       'igualit', 'iluminam', 'import', 'infravalor', 'joy', 'just', 'la',\n",
       "       'lanz', 'las', 'legendari', 'libr', 'lo', 'los', 'madrug', 'manan',\n",
       "       'mand', 'mas', 'masiv', 'max', 'me', 'mejor', 'mi', 'mied', 'mil',\n",
       "       'millon', 'mis', 'mism', 'mismit', 'monton', 'much', 'multitud',\n",
       "       'mund', 'muy', 'netlfix', 'no', 'noch', 'nos', 'nosotr', 'obra',\n",
       "       'oscur', 'par', 'parec', 'parezc', 'personaliz', 'pop', 'por',\n",
       "       'posit', 'preferiri', 'prefier', 'premi', 'produccion', 'public',\n",
       "       'puntuacion', 'purez', 'que', 'quier', 'rat', 'rating', 'real',\n",
       "       'recaud', 'reci', 'recient', 'recomiend', 'reconoc', 'records',\n",
       "       'red', 'reonoc', 'reput', 'rer', 'resen', 'revent', 'ris',\n",
       "       'romanc', 'romat', 'romp', 'sal', 'sali', 'satur', 'se', 'sea',\n",
       "       'sean', 'seguidor', 'segur', 'septim', 'similar', 'singular',\n",
       "       'sobresalient', 'sobresatur', 'social', 'son', 'sorprendem',\n",
       "       'subestim', 'sugier', 'sup', 'suspen', 'taquill', 'te', 'teatr',\n",
       "       'tendenci', 'terror', 'ti', 'tierr', 'tod', 'trat', 'tu', 'tus',\n",
       "       'ultim', 'una', 'underground', 'valor', 'vaquer', 'veas', 'veo',\n",
       "       'vid', 'vist', 'yo', 'zombi'], dtype=object)"
      ]
     },
     "execution_count": 6,
     "metadata": {},
     "output_type": "execute_result"
    }
   ],
   "source": [
    "model_generated.get_feature_names_out()"
   ]
  },
  {
   "cell_type": "code",
   "execution_count": 7,
   "metadata": {},
   "outputs": [],
   "source": [
    "generated_df.to_excel('../data/proccesed_data/neural_network.xlsx',index=False)"
   ]
  },
  {
   "cell_type": "code",
   "execution_count": 8,
   "metadata": {},
   "outputs": [
    {
     "data": {
      "text/plain": [
       "array([0., 0., 0., 0., 0., 0., 0., 0., 0., 0., 0., 0., 0., 0., 0., 0., 0.,\n",
       "       0., 1., 0., 0., 0., 0., 0., 0., 0., 0., 0., 0., 0., 0., 0., 0., 0.,\n",
       "       0., 0., 0., 0., 0., 0., 0., 0., 0., 0., 0., 0., 0., 0., 0., 0., 0.,\n",
       "       0., 0., 0., 0., 0., 0., 0., 0., 0., 0., 0., 0., 0., 0., 0., 0., 0.,\n",
       "       0., 0., 0., 0., 0., 0., 0., 0., 0., 0., 0., 0., 0., 0., 0., 0., 0.,\n",
       "       0., 0., 0., 0., 0., 0., 0., 0., 0., 0., 0., 0., 0., 0., 0., 1., 0.,\n",
       "       0., 0., 0., 0., 0., 0., 1., 0., 0., 0., 0., 0., 0., 0., 0., 0., 0.,\n",
       "       0., 0., 0., 0., 0., 0., 0., 0., 0., 0., 0., 0., 0., 0., 0., 0., 0.,\n",
       "       0., 0., 0., 0., 0., 0., 0., 0., 0., 0., 0., 0., 0., 0., 0., 0., 0.,\n",
       "       0., 0., 0., 0., 0., 0., 0., 0., 0., 0., 0., 0., 0., 0., 0., 0., 0.,\n",
       "       0., 0., 0., 0., 0., 0., 0., 0., 0., 0., 0., 0., 0., 0., 0., 0., 0.,\n",
       "       0., 0., 0., 0., 0., 0., 0., 0., 0., 0., 0., 0., 0., 0., 0., 0., 0.,\n",
       "       0., 0., 0., 0., 0.])"
      ]
     },
     "execution_count": 8,
     "metadata": {},
     "output_type": "execute_result"
    }
   ],
   "source": [
    "generated_df['matrices'][0]"
   ]
  }
 ],
 "metadata": {
  "kernelspec": {
   "display_name": "chatbot_nltk",
   "language": "python",
   "name": "python3"
  },
  "language_info": {
   "codemirror_mode": {
    "name": "ipython",
    "version": 3
   },
   "file_extension": ".py",
   "mimetype": "text/x-python",
   "name": "python",
   "nbconvert_exporter": "python",
   "pygments_lexer": "ipython3",
   "version": "3.12.3"
  }
 },
 "nbformat": 4,
 "nbformat_minor": 2
}
