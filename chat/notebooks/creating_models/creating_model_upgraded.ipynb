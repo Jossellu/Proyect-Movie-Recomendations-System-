{
 "cells": [
  {
   "cell_type": "code",
   "execution_count": 4,
   "metadata": {},
   "outputs": [],
   "source": [
    "import pandas as pd"
   ]
  },
  {
   "cell_type": "code",
   "execution_count": 5,
   "metadata": {},
   "outputs": [
    {
     "data": {
      "text/html": [
       "<div>\n",
       "<style scoped>\n",
       "    .dataframe tbody tr th:only-of-type {\n",
       "        vertical-align: middle;\n",
       "    }\n",
       "\n",
       "    .dataframe tbody tr th {\n",
       "        vertical-align: top;\n",
       "    }\n",
       "\n",
       "    .dataframe thead th {\n",
       "        text-align: right;\n",
       "    }\n",
       "</style>\n",
       "<table border=\"1\" class=\"dataframe\">\n",
       "  <thead>\n",
       "    <tr style=\"text-align: right;\">\n",
       "      <th></th>\n",
       "      <th>saludos</th>\n",
       "      <th>presentaciones</th>\n",
       "      <th>informacion</th>\n",
       "      <th>recomendaciones</th>\n",
       "    </tr>\n",
       "  </thead>\n",
       "  <tbody>\n",
       "    <tr>\n",
       "      <th>0</th>\n",
       "      <td>¡Hola!</td>\n",
       "      <td>Hola, soy Juan.</td>\n",
       "      <td>¿Cuál es tu mecanismo de operación?</td>\n",
       "      <td>¿Tienes alguna película o serie que recomendar...</td>\n",
       "    </tr>\n",
       "    <tr>\n",
       "      <th>1</th>\n",
       "      <td>Buenos días.</td>\n",
       "      <td>Me llamo María, mucho gusto.</td>\n",
       "      <td>¿Cuál es tu modo de funcionamiento?</td>\n",
       "      <td>¿Podrías sugerirme una buena película para ver...</td>\n",
       "    </tr>\n",
       "    <tr>\n",
       "      <th>2</th>\n",
       "      <td>Buenas tardes.</td>\n",
       "      <td>Encantado, me llamo David.</td>\n",
       "      <td>¿Cómo trabajas en términos de proceso?</td>\n",
       "      <td>¿Qué película o serie me recomendarías para re...</td>\n",
       "    </tr>\n",
       "    <tr>\n",
       "      <th>3</th>\n",
       "      <td>Buenas noches.</td>\n",
       "      <td>Soy Ana, ¿cómo estás?</td>\n",
       "      <td>¿De qué manera llevas a cabo tus tareas?</td>\n",
       "      <td>¿Conoces alguna película emocionante que valga...</td>\n",
       "    </tr>\n",
       "    <tr>\n",
       "      <th>4</th>\n",
       "      <td>¿Qué tal?</td>\n",
       "      <td>Mi nombre es Carlos, un placer conocerte.</td>\n",
       "      <td>¿Cuál es tu método de ejecución?</td>\n",
       "      <td>¿Cuál es tu serie de televisión favorita en es...</td>\n",
       "    </tr>\n",
       "    <tr>\n",
       "      <th>...</th>\n",
       "      <td>...</td>\n",
       "      <td>...</td>\n",
       "      <td>...</td>\n",
       "      <td>...</td>\n",
       "    </tr>\n",
       "    <tr>\n",
       "      <th>95</th>\n",
       "      <td>¡Hola, ¿cómo te va con tu humor?</td>\n",
       "      <td>Hola, me dicen Pablo.</td>\n",
       "      <td>¿Qué talentos tienes?</td>\n",
       "      <td>¿Qué me sugieres ver en este momento?</td>\n",
       "    </tr>\n",
       "    <tr>\n",
       "      <th>96</th>\n",
       "      <td>¡Hola, ¿cómo estás de humor?</td>\n",
       "      <td>Soy Isabel, un placer.</td>\n",
       "      <td>¿En qué eres experto?</td>\n",
       "      <td>¿Qué está bueno para ver en streaming?</td>\n",
       "    </tr>\n",
       "    <tr>\n",
       "      <th>97</th>\n",
       "      <td>¡Hola, ¿cómo estás de humor hoy?</td>\n",
       "      <td>Puedes llamarme Juanita.</td>\n",
       "      <td>¿Qué dominas?</td>\n",
       "      <td>¿Algún programa que me atrape desde el princi...</td>\n",
       "    </tr>\n",
       "    <tr>\n",
       "      <th>98</th>\n",
       "      <td>¡Hola, ¿cómo te encuentras de humor?</td>\n",
       "      <td>Hola, me llaman Laura Sofía.</td>\n",
       "      <td>¿Qué puedes hacer mejor que otros?</td>\n",
       "      <td>¿Qué serie o película me recomendarías hoy?</td>\n",
       "    </tr>\n",
       "    <tr>\n",
       "      <th>99</th>\n",
       "      <td>```</td>\n",
       "      <td>Soy David, ¿cómo estás?</td>\n",
       "      <td>¿En qué áreas brillas?</td>\n",
       "      <td>¿Algún título interesante para ver en pantalla?</td>\n",
       "    </tr>\n",
       "  </tbody>\n",
       "</table>\n",
       "<p>100 rows × 4 columns</p>\n",
       "</div>"
      ],
      "text/plain": [
       "                                 saludos  \\\n",
       "0                                 ¡Hola!   \n",
       "1                           Buenos días.   \n",
       "2                         Buenas tardes.   \n",
       "3                         Buenas noches.   \n",
       "4                              ¿Qué tal?   \n",
       "..                                   ...   \n",
       "95      ¡Hola, ¿cómo te va con tu humor?   \n",
       "96          ¡Hola, ¿cómo estás de humor?   \n",
       "97      ¡Hola, ¿cómo estás de humor hoy?   \n",
       "98  ¡Hola, ¿cómo te encuentras de humor?   \n",
       "99                                  ```    \n",
       "\n",
       "                               presentaciones  \\\n",
       "0                             Hola, soy Juan.   \n",
       "1                Me llamo María, mucho gusto.   \n",
       "2                  Encantado, me llamo David.   \n",
       "3                       Soy Ana, ¿cómo estás?   \n",
       "4   Mi nombre es Carlos, un placer conocerte.   \n",
       "..                                        ...   \n",
       "95                      Hola, me dicen Pablo.   \n",
       "96                     Soy Isabel, un placer.   \n",
       "97                   Puedes llamarme Juanita.   \n",
       "98               Hola, me llaman Laura Sofía.   \n",
       "99                    Soy David, ¿cómo estás?   \n",
       "\n",
       "                                 informacion  \\\n",
       "0        ¿Cuál es tu mecanismo de operación?   \n",
       "1        ¿Cuál es tu modo de funcionamiento?   \n",
       "2     ¿Cómo trabajas en términos de proceso?   \n",
       "3   ¿De qué manera llevas a cabo tus tareas?   \n",
       "4           ¿Cuál es tu método de ejecución?   \n",
       "..                                       ...   \n",
       "95                     ¿Qué talentos tienes?   \n",
       "96                     ¿En qué eres experto?   \n",
       "97                             ¿Qué dominas?   \n",
       "98        ¿Qué puedes hacer mejor que otros?   \n",
       "99                    ¿En qué áreas brillas?   \n",
       "\n",
       "                                      recomendaciones  \n",
       "0   ¿Tienes alguna película o serie que recomendar...  \n",
       "1   ¿Podrías sugerirme una buena película para ver...  \n",
       "2   ¿Qué película o serie me recomendarías para re...  \n",
       "3   ¿Conoces alguna película emocionante que valga...  \n",
       "4   ¿Cuál es tu serie de televisión favorita en es...  \n",
       "..                                                ...  \n",
       "95              ¿Qué me sugieres ver en este momento?  \n",
       "96             ¿Qué está bueno para ver en streaming?  \n",
       "97   ¿Algún programa que me atrape desde el princi...  \n",
       "98        ¿Qué serie o película me recomendarías hoy?  \n",
       "99    ¿Algún título interesante para ver en pantalla?  \n",
       "\n",
       "[100 rows x 4 columns]"
      ]
     },
     "execution_count": 5,
     "metadata": {},
     "output_type": "execute_result"
    }
   ],
   "source": [
    "raw_df = pd.read_excel('../data/raw_data/excel chat.xlsx')\n",
    "raw_df"
   ]
  },
  {
   "cell_type": "code",
   "execution_count": 6,
   "metadata": {},
   "outputs": [
    {
     "data": {
      "text/html": [
       "<div>\n",
       "<style scoped>\n",
       "    .dataframe tbody tr th:only-of-type {\n",
       "        vertical-align: middle;\n",
       "    }\n",
       "\n",
       "    .dataframe tbody tr th {\n",
       "        vertical-align: top;\n",
       "    }\n",
       "\n",
       "    .dataframe thead th {\n",
       "        text-align: right;\n",
       "    }\n",
       "</style>\n",
       "<table border=\"1\" class=\"dataframe\">\n",
       "  <thead>\n",
       "    <tr style=\"text-align: right;\">\n",
       "      <th></th>\n",
       "      <th>text</th>\n",
       "    </tr>\n",
       "  </thead>\n",
       "  <tbody>\n",
       "    <tr>\n",
       "      <th>0</th>\n",
       "      <td>¡Hola!</td>\n",
       "    </tr>\n",
       "    <tr>\n",
       "      <th>1</th>\n",
       "      <td>Buenos días.</td>\n",
       "    </tr>\n",
       "    <tr>\n",
       "      <th>2</th>\n",
       "      <td>Buenas tardes.</td>\n",
       "    </tr>\n",
       "    <tr>\n",
       "      <th>3</th>\n",
       "      <td>Buenas noches.</td>\n",
       "    </tr>\n",
       "    <tr>\n",
       "      <th>4</th>\n",
       "      <td>¿Qué tal?</td>\n",
       "    </tr>\n",
       "    <tr>\n",
       "      <th>...</th>\n",
       "      <td>...</td>\n",
       "    </tr>\n",
       "    <tr>\n",
       "      <th>395</th>\n",
       "      <td>¿Qué me sugieres ver en este momento?</td>\n",
       "    </tr>\n",
       "    <tr>\n",
       "      <th>396</th>\n",
       "      <td>¿Qué está bueno para ver en streaming?</td>\n",
       "    </tr>\n",
       "    <tr>\n",
       "      <th>397</th>\n",
       "      <td>¿Algún programa que me atrape desde el princi...</td>\n",
       "    </tr>\n",
       "    <tr>\n",
       "      <th>398</th>\n",
       "      <td>¿Qué serie o película me recomendarías hoy?</td>\n",
       "    </tr>\n",
       "    <tr>\n",
       "      <th>399</th>\n",
       "      <td>¿Algún título interesante para ver en pantalla?</td>\n",
       "    </tr>\n",
       "  </tbody>\n",
       "</table>\n",
       "<p>400 rows × 1 columns</p>\n",
       "</div>"
      ],
      "text/plain": [
       "                                                  text\n",
       "0                                               ¡Hola!\n",
       "1                                         Buenos días.\n",
       "2                                       Buenas tardes.\n",
       "3                                       Buenas noches.\n",
       "4                                            ¿Qué tal?\n",
       "..                                                 ...\n",
       "395              ¿Qué me sugieres ver en este momento?\n",
       "396             ¿Qué está bueno para ver en streaming?\n",
       "397   ¿Algún programa que me atrape desde el princi...\n",
       "398        ¿Qué serie o película me recomendarías hoy?\n",
       "399    ¿Algún título interesante para ver en pantalla?\n",
       "\n",
       "[400 rows x 1 columns]"
      ]
     },
     "execution_count": 6,
     "metadata": {},
     "output_type": "execute_result"
    }
   ],
   "source": [
    "#agrupamos todo el texto en una sola columna\n",
    "new_df = pd.DataFrame()\n",
    "new_df['text'] = pd.concat([raw_df['saludos'],raw_df['presentaciones'],raw_df['informacion'],raw_df['recomendaciones']],ignore_index=True)\n",
    "new_df\n"
   ]
  },
  {
   "cell_type": "markdown",
   "metadata": {},
   "source": [
    "#Procesando datos"
   ]
  },
  {
   "cell_type": "code",
   "execution_count": 7,
   "metadata": {},
   "outputs": [
    {
     "name": "stdout",
     "output_type": "stream",
     "text": [
      "no se genero niguna matriz en el lem de la fila: 99\n"
     ]
    },
    {
     "name": "stderr",
     "output_type": "stream",
     "text": [
      "[nltk_data] Downloading package punkt to /home/ackerman/nltk_data...\n",
      "[nltk_data]   Package punkt is already up-to-date!\n"
     ]
    },
    {
     "data": {
      "text/html": [
       "<div>\n",
       "<style scoped>\n",
       "    .dataframe tbody tr th:only-of-type {\n",
       "        vertical-align: middle;\n",
       "    }\n",
       "\n",
       "    .dataframe tbody tr th {\n",
       "        vertical-align: top;\n",
       "    }\n",
       "\n",
       "    .dataframe thead th {\n",
       "        text-align: right;\n",
       "    }\n",
       "</style>\n",
       "<table border=\"1\" class=\"dataframe\">\n",
       "  <thead>\n",
       "    <tr style=\"text-align: right;\">\n",
       "      <th></th>\n",
       "      <th>original text</th>\n",
       "      <th>text_clean</th>\n",
       "      <th>tokens</th>\n",
       "      <th>lemms</th>\n",
       "      <th>matrices</th>\n",
       "    </tr>\n",
       "  </thead>\n",
       "  <tbody>\n",
       "    <tr>\n",
       "      <th>0</th>\n",
       "      <td>¡Hola!</td>\n",
       "      <td>hola</td>\n",
       "      <td>[hola]</td>\n",
       "      <td>[hol]</td>\n",
       "      <td>[0, 0, 0, 0, 0, 0, 0, 0, 0, 0, 0, 0, 0, 0, 0, ...</td>\n",
       "    </tr>\n",
       "    <tr>\n",
       "      <th>1</th>\n",
       "      <td>Buenos días.</td>\n",
       "      <td>buenos dias</td>\n",
       "      <td>[buenos, dias]</td>\n",
       "      <td>[buen, dias]</td>\n",
       "      <td>[0, 0, 0, 0, 0, 0, 0, 0, 0, 0, 0, 0, 0, 0, 0, ...</td>\n",
       "    </tr>\n",
       "    <tr>\n",
       "      <th>2</th>\n",
       "      <td>Buenas tardes.</td>\n",
       "      <td>buenas tardes</td>\n",
       "      <td>[buenas, tardes]</td>\n",
       "      <td>[buen, tard]</td>\n",
       "      <td>[0, 0, 0, 0, 0, 0, 0, 0, 0, 0, 0, 0, 0, 0, 0, ...</td>\n",
       "    </tr>\n",
       "    <tr>\n",
       "      <th>3</th>\n",
       "      <td>Buenas noches.</td>\n",
       "      <td>buenas noches</td>\n",
       "      <td>[buenas, noches]</td>\n",
       "      <td>[buen, noch]</td>\n",
       "      <td>[0, 0, 0, 0, 0, 0, 0, 0, 0, 0, 0, 0, 0, 0, 0, ...</td>\n",
       "    </tr>\n",
       "    <tr>\n",
       "      <th>4</th>\n",
       "      <td>¿Qué tal?</td>\n",
       "      <td>que tal</td>\n",
       "      <td>[que, tal]</td>\n",
       "      <td>[que, tal]</td>\n",
       "      <td>[0, 0, 0, 0, 0, 0, 0, 0, 0, 0, 0, 0, 0, 0, 0, ...</td>\n",
       "    </tr>\n",
       "    <tr>\n",
       "      <th>...</th>\n",
       "      <td>...</td>\n",
       "      <td>...</td>\n",
       "      <td>...</td>\n",
       "      <td>...</td>\n",
       "      <td>...</td>\n",
       "    </tr>\n",
       "    <tr>\n",
       "      <th>395</th>\n",
       "      <td>¿Qué me sugieres ver en este momento?</td>\n",
       "      <td>que me sugieres ver en este momento</td>\n",
       "      <td>[que, me, sugieres, ver, en, este, momento]</td>\n",
       "      <td>[que, me, sugier, ver, en, este, moment]</td>\n",
       "      <td>[0, 0, 0, 0, 0, 0, 0, 0, 0, 0, 0, 0, 0, 0, 0, ...</td>\n",
       "    </tr>\n",
       "    <tr>\n",
       "      <th>396</th>\n",
       "      <td>¿Qué está bueno para ver en streaming?</td>\n",
       "      <td>que esta bueno para ver en streaming</td>\n",
       "      <td>[que, esta, bueno, para, ver, en, streaming]</td>\n",
       "      <td>[que, esta, buen, par, ver, en, streaming]</td>\n",
       "      <td>[0, 0, 0, 0, 0, 0, 0, 0, 0, 0, 0, 0, 0, 0, 0, ...</td>\n",
       "    </tr>\n",
       "    <tr>\n",
       "      <th>397</th>\n",
       "      <td>¿Algún programa que me atrape desde el princi...</td>\n",
       "      <td>algun programa que me atrape desde el principio</td>\n",
       "      <td>[algun, programa, que, me, atrape, desde, el, ...</td>\n",
       "      <td>[algun, program, que, me, atrap, desd, el, pri...</td>\n",
       "      <td>[0, 0, 0, 0, 0, 0, 0, 0, 0, 0, 0, 0, 0, 0, 1, ...</td>\n",
       "    </tr>\n",
       "    <tr>\n",
       "      <th>398</th>\n",
       "      <td>¿Qué serie o película me recomendarías hoy?</td>\n",
       "      <td>que serie o pelicula me recomendarias hoy</td>\n",
       "      <td>[que, serie, o, pelicula, me, recomendarias, hoy]</td>\n",
       "      <td>[que, seri, o, pelicul, me, recomendari, hoy]</td>\n",
       "      <td>[0, 0, 0, 0, 0, 0, 0, 0, 0, 0, 0, 0, 0, 0, 0, ...</td>\n",
       "    </tr>\n",
       "    <tr>\n",
       "      <th>399</th>\n",
       "      <td>¿Algún título interesante para ver en pantalla?</td>\n",
       "      <td>algun titulo interesante para ver en pantalla</td>\n",
       "      <td>[algun, titulo, interesante, para, ver, en, pa...</td>\n",
       "      <td>[algun, titul, interes, par, ver, en, pantall]</td>\n",
       "      <td>[0, 0, 0, 0, 0, 0, 0, 0, 0, 0, 0, 0, 0, 0, 1, ...</td>\n",
       "    </tr>\n",
       "  </tbody>\n",
       "</table>\n",
       "<p>400 rows × 5 columns</p>\n",
       "</div>"
      ],
      "text/plain": [
       "                                         original text  \\\n",
       "0                                               ¡Hola!   \n",
       "1                                         Buenos días.   \n",
       "2                                       Buenas tardes.   \n",
       "3                                       Buenas noches.   \n",
       "4                                            ¿Qué tal?   \n",
       "..                                                 ...   \n",
       "395              ¿Qué me sugieres ver en este momento?   \n",
       "396             ¿Qué está bueno para ver en streaming?   \n",
       "397   ¿Algún programa que me atrape desde el princi...   \n",
       "398        ¿Qué serie o película me recomendarías hoy?   \n",
       "399    ¿Algún título interesante para ver en pantalla?   \n",
       "\n",
       "                                           text_clean  \\\n",
       "0                                                hola   \n",
       "1                                         buenos dias   \n",
       "2                                       buenas tardes   \n",
       "3                                       buenas noches   \n",
       "4                                             que tal   \n",
       "..                                                ...   \n",
       "395               que me sugieres ver en este momento   \n",
       "396              que esta bueno para ver en streaming   \n",
       "397   algun programa que me atrape desde el principio   \n",
       "398         que serie o pelicula me recomendarias hoy   \n",
       "399     algun titulo interesante para ver en pantalla   \n",
       "\n",
       "                                                tokens  \\\n",
       "0                                               [hola]   \n",
       "1                                       [buenos, dias]   \n",
       "2                                     [buenas, tardes]   \n",
       "3                                     [buenas, noches]   \n",
       "4                                           [que, tal]   \n",
       "..                                                 ...   \n",
       "395        [que, me, sugieres, ver, en, este, momento]   \n",
       "396       [que, esta, bueno, para, ver, en, streaming]   \n",
       "397  [algun, programa, que, me, atrape, desde, el, ...   \n",
       "398  [que, serie, o, pelicula, me, recomendarias, hoy]   \n",
       "399  [algun, titulo, interesante, para, ver, en, pa...   \n",
       "\n",
       "                                                 lemms  \\\n",
       "0                                                [hol]   \n",
       "1                                         [buen, dias]   \n",
       "2                                         [buen, tard]   \n",
       "3                                         [buen, noch]   \n",
       "4                                           [que, tal]   \n",
       "..                                                 ...   \n",
       "395           [que, me, sugier, ver, en, este, moment]   \n",
       "396         [que, esta, buen, par, ver, en, streaming]   \n",
       "397  [algun, program, que, me, atrap, desd, el, pri...   \n",
       "398      [que, seri, o, pelicul, me, recomendari, hoy]   \n",
       "399     [algun, titul, interes, par, ver, en, pantall]   \n",
       "\n",
       "                                              matrices  \n",
       "0    [0, 0, 0, 0, 0, 0, 0, 0, 0, 0, 0, 0, 0, 0, 0, ...  \n",
       "1    [0, 0, 0, 0, 0, 0, 0, 0, 0, 0, 0, 0, 0, 0, 0, ...  \n",
       "2    [0, 0, 0, 0, 0, 0, 0, 0, 0, 0, 0, 0, 0, 0, 0, ...  \n",
       "3    [0, 0, 0, 0, 0, 0, 0, 0, 0, 0, 0, 0, 0, 0, 0, ...  \n",
       "4    [0, 0, 0, 0, 0, 0, 0, 0, 0, 0, 0, 0, 0, 0, 0, ...  \n",
       "..                                                 ...  \n",
       "395  [0, 0, 0, 0, 0, 0, 0, 0, 0, 0, 0, 0, 0, 0, 0, ...  \n",
       "396  [0, 0, 0, 0, 0, 0, 0, 0, 0, 0, 0, 0, 0, 0, 0, ...  \n",
       "397  [0, 0, 0, 0, 0, 0, 0, 0, 0, 0, 0, 0, 0, 0, 1, ...  \n",
       "398  [0, 0, 0, 0, 0, 0, 0, 0, 0, 0, 0, 0, 0, 0, 0, ...  \n",
       "399  [0, 0, 0, 0, 0, 0, 0, 0, 0, 0, 0, 0, 0, 0, 1, ...  \n",
       "\n",
       "[400 rows x 5 columns]"
      ]
     },
     "execution_count": 7,
     "metadata": {},
     "output_type": "execute_result"
    }
   ],
   "source": [
    "#generamos df con matrices del texto sin eliminar stops words\n",
    "from text_2_bow_stopsTrue import generate_df, generate_bowler\n",
    "bowler_generated = generate_bowler(new_df['text'])\n",
    "generated_df = generate_df(bowler_model=bowler_generated,text=new_df['text'])\n",
    "generated_df"
   ]
  },
  {
   "cell_type": "code",
   "execution_count": 8,
   "metadata": {},
   "outputs": [
    {
     "data": {
      "text/plain": [
       "original text    ``` \n",
       "text_clean           \n",
       "tokens             []\n",
       "lemms              []\n",
       "matrices            0\n",
       "Name: 99, dtype: object"
      ]
     },
     "execution_count": 8,
     "metadata": {},
     "output_type": "execute_result"
    }
   ],
   "source": [
    "#verificamos si el modulo detecto oraciones vacias\n",
    "generated_df.iloc[99]"
   ]
  },
  {
   "cell_type": "code",
   "execution_count": 9,
   "metadata": {},
   "outputs": [],
   "source": [
    "#eliminamos datos vacios\n",
    "generated_df.drop(99,axis=0,inplace=True)"
   ]
  },
  {
   "cell_type": "code",
   "execution_count": 10,
   "metadata": {},
   "outputs": [
    {
     "data": {
      "text/html": [
       "<div>\n",
       "<style scoped>\n",
       "    .dataframe tbody tr th:only-of-type {\n",
       "        vertical-align: middle;\n",
       "    }\n",
       "\n",
       "    .dataframe tbody tr th {\n",
       "        vertical-align: top;\n",
       "    }\n",
       "\n",
       "    .dataframe thead th {\n",
       "        text-align: right;\n",
       "    }\n",
       "</style>\n",
       "<table border=\"1\" class=\"dataframe\">\n",
       "  <thead>\n",
       "    <tr style=\"text-align: right;\">\n",
       "      <th></th>\n",
       "      <th>original text</th>\n",
       "      <th>text_clean</th>\n",
       "      <th>tokens</th>\n",
       "      <th>lemms</th>\n",
       "      <th>matrices</th>\n",
       "    </tr>\n",
       "  </thead>\n",
       "  <tbody>\n",
       "    <tr>\n",
       "      <th>98</th>\n",
       "      <td>¡Hola, ¿cómo te encuentras de humor?</td>\n",
       "      <td>hola como te encuentras de humor</td>\n",
       "      <td>[hola, como, te, encuentras, de, humor]</td>\n",
       "      <td>[hol, com, te, encuentr, de, humor]</td>\n",
       "      <td>[0, 0, 0, 0, 0, 0, 0, 0, 0, 0, 0, 0, 0, 0, 0, ...</td>\n",
       "    </tr>\n",
       "    <tr>\n",
       "      <th>100</th>\n",
       "      <td>Hola, soy Juan.</td>\n",
       "      <td>hola soy juan</td>\n",
       "      <td>[hola, soy, juan]</td>\n",
       "      <td>[hol, soy, juan]</td>\n",
       "      <td>[0, 0, 0, 0, 0, 0, 0, 0, 0, 0, 0, 0, 0, 0, 0, ...</td>\n",
       "    </tr>\n",
       "  </tbody>\n",
       "</table>\n",
       "</div>"
      ],
      "text/plain": [
       "                            original text                        text_clean  \\\n",
       "98   ¡Hola, ¿cómo te encuentras de humor?  hola como te encuentras de humor   \n",
       "100                       Hola, soy Juan.                     hola soy juan   \n",
       "\n",
       "                                      tokens  \\\n",
       "98   [hola, como, te, encuentras, de, humor]   \n",
       "100                        [hola, soy, juan]   \n",
       "\n",
       "                                   lemms  \\\n",
       "98   [hol, com, te, encuentr, de, humor]   \n",
       "100                     [hol, soy, juan]   \n",
       "\n",
       "                                              matrices  \n",
       "98   [0, 0, 0, 0, 0, 0, 0, 0, 0, 0, 0, 0, 0, 0, 0, ...  \n",
       "100  [0, 0, 0, 0, 0, 0, 0, 0, 0, 0, 0, 0, 0, 0, 0, ...  "
      ]
     },
     "execution_count": 10,
     "metadata": {},
     "output_type": "execute_result"
    }
   ],
   "source": [
    "#verificamos si el modulo detecto oraciones vacias\n",
    "generated_df.iloc[98:100,:]"
   ]
  },
  {
   "cell_type": "code",
   "execution_count": 11,
   "metadata": {},
   "outputs": [],
   "source": [
    "generated_df.reset_index(drop=True,inplace=True)"
   ]
  },
  {
   "cell_type": "code",
   "execution_count": 12,
   "metadata": {},
   "outputs": [],
   "source": [
    "#eliminamos el dato vacio ahora de nuestro new df\n",
    "new_df.drop(99,axis=0,inplace=True)\n",
    "new_df.reset_index(drop=True,inplace=True)"
   ]
  },
  {
   "cell_type": "code",
   "execution_count": 13,
   "metadata": {},
   "outputs": [
    {
     "data": {
      "text/plain": [
       "(                                    text\n",
       " 0                                 ¡Hola!\n",
       " 1                           Buenos días.\n",
       " 2                         Buenas tardes.\n",
       " 3                         Buenas noches.\n",
       " 4                              ¿Qué tal?\n",
       " ..                                   ...\n",
       " 95      ¡Hola, ¿cómo te va con tu humor?\n",
       " 96          ¡Hola, ¿cómo estás de humor?\n",
       " 97      ¡Hola, ¿cómo estás de humor hoy?\n",
       " 98  ¡Hola, ¿cómo te encuentras de humor?\n",
       " 99                       Hola, soy Juan.\n",
       " \n",
       " [100 rows x 1 columns],\n",
       "                                           text\n",
       " 100               Me llamo María, mucho gusto.\n",
       " 101                 Encantado, me llamo David.\n",
       " 102                      Soy Ana, ¿cómo estás?\n",
       " 103  Mi nombre es Carlos, un placer conocerte.\n",
       " 104                     Puedes llamarme Laura.\n",
       " ..                                         ...\n",
       " 195                     Soy Isabel, un placer.\n",
       " 196                   Puedes llamarme Juanita.\n",
       " 197               Hola, me llaman Laura Sofía.\n",
       " 198                    Soy David, ¿cómo estás?\n",
       " 199        ¿Cuál es tu mecanismo de operación?\n",
       " \n",
       " [100 rows x 1 columns])"
      ]
     },
     "execution_count": 13,
     "metadata": {},
     "output_type": "execute_result"
    }
   ],
   "source": [
    "new_df.iloc[0:100],new_df.iloc[100:200]"
   ]
  },
  {
   "cell_type": "code",
   "execution_count": 14,
   "metadata": {},
   "outputs": [
    {
     "data": {
      "text/plain": [
       "(                                                  text\n",
       " 200                ¿Cuál es tu modo de funcionamiento?\n",
       " 201             ¿Cómo trabajas en términos de proceso?\n",
       " 202           ¿De qué manera llevas a cabo tus tareas?\n",
       " 203                   ¿Cuál es tu método de ejecución?\n",
       " 204                       ¿Cómo operas en la práctica?\n",
       " ..                                                 ...\n",
       " 295                              ¿En qué eres experto?\n",
       " 296                                      ¿Qué dominas?\n",
       " 297                 ¿Qué puedes hacer mejor que otros?\n",
       " 298                             ¿En qué áreas brillas?\n",
       " 299  ¿Tienes alguna película o serie que recomendar...\n",
       " \n",
       " [100 rows x 1 columns],\n",
       "                                                   text\n",
       " 300  ¿Podrías sugerirme una buena película para ver...\n",
       " 301  ¿Qué película o serie me recomendarías para re...\n",
       " 302  ¿Conoces alguna película emocionante que valga...\n",
       " 303  ¿Cuál es tu serie de televisión favorita en es...\n",
       " 304  ¿Alguna recomendación de película que me mante...\n",
       " ..                                                 ...\n",
       " 394              ¿Qué me sugieres ver en este momento?\n",
       " 395             ¿Qué está bueno para ver en streaming?\n",
       " 396   ¿Algún programa que me atrape desde el princi...\n",
       " 397        ¿Qué serie o película me recomendarías hoy?\n",
       " 398    ¿Algún título interesante para ver en pantalla?\n",
       " \n",
       " [99 rows x 1 columns])"
      ]
     },
     "execution_count": 14,
     "metadata": {},
     "output_type": "execute_result"
    }
   ],
   "source": [
    "new_df.iloc[200:300],new_df.iloc[300:400]"
   ]
  },
  {
   "cell_type": "code",
   "execution_count": 15,
   "metadata": {},
   "outputs": [
    {
     "data": {
      "text/html": [
       "<div>\n",
       "<style scoped>\n",
       "    .dataframe tbody tr th:only-of-type {\n",
       "        vertical-align: middle;\n",
       "    }\n",
       "\n",
       "    .dataframe tbody tr th {\n",
       "        vertical-align: top;\n",
       "    }\n",
       "\n",
       "    .dataframe thead th {\n",
       "        text-align: right;\n",
       "    }\n",
       "</style>\n",
       "<table border=\"1\" class=\"dataframe\">\n",
       "  <thead>\n",
       "    <tr style=\"text-align: right;\">\n",
       "      <th></th>\n",
       "      <th>text</th>\n",
       "      <th>target</th>\n",
       "    </tr>\n",
       "  </thead>\n",
       "  <tbody>\n",
       "    <tr>\n",
       "      <th>0</th>\n",
       "      <td>¡Hola!</td>\n",
       "      <td>0.0</td>\n",
       "    </tr>\n",
       "    <tr>\n",
       "      <th>1</th>\n",
       "      <td>Buenos días.</td>\n",
       "      <td>0.0</td>\n",
       "    </tr>\n",
       "    <tr>\n",
       "      <th>2</th>\n",
       "      <td>Buenas tardes.</td>\n",
       "      <td>0.0</td>\n",
       "    </tr>\n",
       "    <tr>\n",
       "      <th>3</th>\n",
       "      <td>Buenas noches.</td>\n",
       "      <td>0.0</td>\n",
       "    </tr>\n",
       "    <tr>\n",
       "      <th>4</th>\n",
       "      <td>¿Qué tal?</td>\n",
       "      <td>0.0</td>\n",
       "    </tr>\n",
       "    <tr>\n",
       "      <th>...</th>\n",
       "      <td>...</td>\n",
       "      <td>...</td>\n",
       "    </tr>\n",
       "    <tr>\n",
       "      <th>394</th>\n",
       "      <td>¿Qué me sugieres ver en este momento?</td>\n",
       "      <td>3.0</td>\n",
       "    </tr>\n",
       "    <tr>\n",
       "      <th>395</th>\n",
       "      <td>¿Qué está bueno para ver en streaming?</td>\n",
       "      <td>3.0</td>\n",
       "    </tr>\n",
       "    <tr>\n",
       "      <th>396</th>\n",
       "      <td>¿Algún programa que me atrape desde el princi...</td>\n",
       "      <td>3.0</td>\n",
       "    </tr>\n",
       "    <tr>\n",
       "      <th>397</th>\n",
       "      <td>¿Qué serie o película me recomendarías hoy?</td>\n",
       "      <td>3.0</td>\n",
       "    </tr>\n",
       "    <tr>\n",
       "      <th>398</th>\n",
       "      <td>¿Algún título interesante para ver en pantalla?</td>\n",
       "      <td>3.0</td>\n",
       "    </tr>\n",
       "  </tbody>\n",
       "</table>\n",
       "<p>399 rows × 2 columns</p>\n",
       "</div>"
      ],
      "text/plain": [
       "                                                  text target\n",
       "0                                               ¡Hola!    0.0\n",
       "1                                         Buenos días.    0.0\n",
       "2                                       Buenas tardes.    0.0\n",
       "3                                       Buenas noches.    0.0\n",
       "4                                            ¿Qué tal?    0.0\n",
       "..                                                 ...    ...\n",
       "394              ¿Qué me sugieres ver en este momento?    3.0\n",
       "395             ¿Qué está bueno para ver en streaming?    3.0\n",
       "396   ¿Algún programa que me atrape desde el princi...    3.0\n",
       "397        ¿Qué serie o película me recomendarías hoy?    3.0\n",
       "398    ¿Algún título interesante para ver en pantalla?    3.0\n",
       "\n",
       "[399 rows x 2 columns]"
      ]
     },
     "execution_count": 15,
     "metadata": {},
     "output_type": "execute_result"
    }
   ],
   "source": [
    "#ahora haremos un target para predecir en nuestro modelo \n",
    "new_df['target'] = None\n",
    "new_df.iloc[0:99,1] = 0.0\n",
    "new_df.iloc[99:199,1] = 1.0\n",
    "new_df.iloc[199:299,1] = 2.0\n",
    "new_df.iloc[299:399,1] = 3.0\n",
    "new_df"
   ]
  },
  {
   "cell_type": "markdown",
   "metadata": {},
   "source": [
    "#Data procesada"
   ]
  },
  {
   "cell_type": "code",
   "execution_count": 16,
   "metadata": {},
   "outputs": [],
   "source": [
    "proccesed_df = pd.DataFrame({'text':new_df['text'].values,\n",
    "                             'text coded':generated_df['matrices'].values,\n",
    "                             'targer_to_predict':new_df['target'].values})\n"
   ]
  },
  {
   "cell_type": "code",
   "execution_count": 17,
   "metadata": {},
   "outputs": [
    {
     "data": {
      "text/html": [
       "<div>\n",
       "<style scoped>\n",
       "    .dataframe tbody tr th:only-of-type {\n",
       "        vertical-align: middle;\n",
       "    }\n",
       "\n",
       "    .dataframe tbody tr th {\n",
       "        vertical-align: top;\n",
       "    }\n",
       "\n",
       "    .dataframe thead th {\n",
       "        text-align: right;\n",
       "    }\n",
       "</style>\n",
       "<table border=\"1\" class=\"dataframe\">\n",
       "  <thead>\n",
       "    <tr style=\"text-align: right;\">\n",
       "      <th></th>\n",
       "      <th>text</th>\n",
       "      <th>text coded</th>\n",
       "      <th>targer_to_predict</th>\n",
       "    </tr>\n",
       "  </thead>\n",
       "  <tbody>\n",
       "    <tr>\n",
       "      <th>0</th>\n",
       "      <td>¡Hola!</td>\n",
       "      <td>[0, 0, 0, 0, 0, 0, 0, 0, 0, 0, 0, 0, 0, 0, 0, ...</td>\n",
       "      <td>0.0</td>\n",
       "    </tr>\n",
       "    <tr>\n",
       "      <th>1</th>\n",
       "      <td>Buenos días.</td>\n",
       "      <td>[0, 0, 0, 0, 0, 0, 0, 0, 0, 0, 0, 0, 0, 0, 0, ...</td>\n",
       "      <td>0.0</td>\n",
       "    </tr>\n",
       "    <tr>\n",
       "      <th>2</th>\n",
       "      <td>Buenas tardes.</td>\n",
       "      <td>[0, 0, 0, 0, 0, 0, 0, 0, 0, 0, 0, 0, 0, 0, 0, ...</td>\n",
       "      <td>0.0</td>\n",
       "    </tr>\n",
       "    <tr>\n",
       "      <th>3</th>\n",
       "      <td>Buenas noches.</td>\n",
       "      <td>[0, 0, 0, 0, 0, 0, 0, 0, 0, 0, 0, 0, 0, 0, 0, ...</td>\n",
       "      <td>0.0</td>\n",
       "    </tr>\n",
       "    <tr>\n",
       "      <th>4</th>\n",
       "      <td>¿Qué tal?</td>\n",
       "      <td>[0, 0, 0, 0, 0, 0, 0, 0, 0, 0, 0, 0, 0, 0, 0, ...</td>\n",
       "      <td>0.0</td>\n",
       "    </tr>\n",
       "    <tr>\n",
       "      <th>...</th>\n",
       "      <td>...</td>\n",
       "      <td>...</td>\n",
       "      <td>...</td>\n",
       "    </tr>\n",
       "    <tr>\n",
       "      <th>394</th>\n",
       "      <td>¿Qué me sugieres ver en este momento?</td>\n",
       "      <td>[0, 0, 0, 0, 0, 0, 0, 0, 0, 0, 0, 0, 0, 0, 0, ...</td>\n",
       "      <td>3.0</td>\n",
       "    </tr>\n",
       "    <tr>\n",
       "      <th>395</th>\n",
       "      <td>¿Qué está bueno para ver en streaming?</td>\n",
       "      <td>[0, 0, 0, 0, 0, 0, 0, 0, 0, 0, 0, 0, 0, 0, 0, ...</td>\n",
       "      <td>3.0</td>\n",
       "    </tr>\n",
       "    <tr>\n",
       "      <th>396</th>\n",
       "      <td>¿Algún programa que me atrape desde el princi...</td>\n",
       "      <td>[0, 0, 0, 0, 0, 0, 0, 0, 0, 0, 0, 0, 0, 0, 1, ...</td>\n",
       "      <td>3.0</td>\n",
       "    </tr>\n",
       "    <tr>\n",
       "      <th>397</th>\n",
       "      <td>¿Qué serie o película me recomendarías hoy?</td>\n",
       "      <td>[0, 0, 0, 0, 0, 0, 0, 0, 0, 0, 0, 0, 0, 0, 0, ...</td>\n",
       "      <td>3.0</td>\n",
       "    </tr>\n",
       "    <tr>\n",
       "      <th>398</th>\n",
       "      <td>¿Algún título interesante para ver en pantalla?</td>\n",
       "      <td>[0, 0, 0, 0, 0, 0, 0, 0, 0, 0, 0, 0, 0, 0, 1, ...</td>\n",
       "      <td>3.0</td>\n",
       "    </tr>\n",
       "  </tbody>\n",
       "</table>\n",
       "<p>399 rows × 3 columns</p>\n",
       "</div>"
      ],
      "text/plain": [
       "                                                  text  \\\n",
       "0                                               ¡Hola!   \n",
       "1                                         Buenos días.   \n",
       "2                                       Buenas tardes.   \n",
       "3                                       Buenas noches.   \n",
       "4                                            ¿Qué tal?   \n",
       "..                                                 ...   \n",
       "394              ¿Qué me sugieres ver en este momento?   \n",
       "395             ¿Qué está bueno para ver en streaming?   \n",
       "396   ¿Algún programa que me atrape desde el princi...   \n",
       "397        ¿Qué serie o película me recomendarías hoy?   \n",
       "398    ¿Algún título interesante para ver en pantalla?   \n",
       "\n",
       "                                            text coded targer_to_predict  \n",
       "0    [0, 0, 0, 0, 0, 0, 0, 0, 0, 0, 0, 0, 0, 0, 0, ...               0.0  \n",
       "1    [0, 0, 0, 0, 0, 0, 0, 0, 0, 0, 0, 0, 0, 0, 0, ...               0.0  \n",
       "2    [0, 0, 0, 0, 0, 0, 0, 0, 0, 0, 0, 0, 0, 0, 0, ...               0.0  \n",
       "3    [0, 0, 0, 0, 0, 0, 0, 0, 0, 0, 0, 0, 0, 0, 0, ...               0.0  \n",
       "4    [0, 0, 0, 0, 0, 0, 0, 0, 0, 0, 0, 0, 0, 0, 0, ...               0.0  \n",
       "..                                                 ...               ...  \n",
       "394  [0, 0, 0, 0, 0, 0, 0, 0, 0, 0, 0, 0, 0, 0, 0, ...               3.0  \n",
       "395  [0, 0, 0, 0, 0, 0, 0, 0, 0, 0, 0, 0, 0, 0, 0, ...               3.0  \n",
       "396  [0, 0, 0, 0, 0, 0, 0, 0, 0, 0, 0, 0, 0, 0, 1, ...               3.0  \n",
       "397  [0, 0, 0, 0, 0, 0, 0, 0, 0, 0, 0, 0, 0, 0, 0, ...               3.0  \n",
       "398  [0, 0, 0, 0, 0, 0, 0, 0, 0, 0, 0, 0, 0, 0, 1, ...               3.0  \n",
       "\n",
       "[399 rows x 3 columns]"
      ]
     },
     "execution_count": 17,
     "metadata": {},
     "output_type": "execute_result"
    }
   ],
   "source": [
    "proccesed_df"
   ]
  },
  {
   "cell_type": "markdown",
   "metadata": {},
   "source": [
    "#Creacion del modelo\n"
   ]
  },
  {
   "cell_type": "code",
   "execution_count": 18,
   "metadata": {},
   "outputs": [],
   "source": [
    "from sklearn.model_selection import train_test_split\n",
    "from sklearn.linear_model import LogisticRegression\n",
    "from sklearn.metrics import accuracy_score, confusion_matrix"
   ]
  },
  {
   "cell_type": "code",
   "execution_count": 19,
   "metadata": {},
   "outputs": [
    {
     "data": {
      "text/plain": [
       "<Axes: xlabel='targer_to_predict'>"
      ]
     },
     "execution_count": 19,
     "metadata": {},
     "output_type": "execute_result"
    },
    {
     "data": {
      "image/png": "[encoded data removed]",
      "text/plain": [
       "<Figure size 640x480 with 1 Axes>"
      ]
     },
     "metadata": {},
     "output_type": "display_data"
    }
   ],
   "source": [
    "#data balanceada\n",
    "proccesed_df['targer_to_predict'].value_counts().plot(kind='bar')"
   ]
  },
  {
   "cell_type": "code",
   "execution_count": 20,
   "metadata": {},
   "outputs": [],
   "source": [
    "data = tuple(zip(proccesed_df['text coded'], proccesed_df['targer_to_predict'].tolist()))"
   ]
  },
  {
   "cell_type": "code",
   "execution_count": 21,
   "metadata": {},
   "outputs": [],
   "source": [
    "train, test = train_test_split(data, test_size=0.3, random_state=42, shuffle=True)"
   ]
  },
  {
   "cell_type": "code",
   "execution_count": 22,
   "metadata": {},
   "outputs": [
    {
     "data": {
      "text/plain": [
       "(279, 120)"
      ]
     },
     "execution_count": 22,
     "metadata": {},
     "output_type": "execute_result"
    }
   ],
   "source": [
    "len(train), len(test)"
   ]
  },
  {
   "cell_type": "code",
   "execution_count": 23,
   "metadata": {},
   "outputs": [],
   "source": [
    "x_train,y_train = zip(*train)\n",
    "x_test,y_test = zip(*test)"
   ]
  },
  {
   "cell_type": "code",
   "execution_count": 24,
   "metadata": {},
   "outputs": [
    {
     "name": "stdout",
     "output_type": "stream",
     "text": [
      "accuracy: 0.9416666666666667\n"
     ]
    },
    {
     "name": "stderr",
     "output_type": "stream",
     "text": [
      "/home/ackerman/anaconda3/envs/chatbot_nltk/lib/python3.12/site-packages/sklearn/linear_model/_logistic.py:1247: FutureWarning: 'multi_class' was deprecated in version 1.5 and will be removed in 1.7. From then on, it will always use 'multinomial'. Leave it to its default value to avoid this warning.\n",
      "  warnings.warn(\n"
     ]
    }
   ],
   "source": [
    "clasificador = LogisticRegression(multi_class='multinomial',solver='sag')\n",
    "clasificador.fit(x_train,y_train)\n",
    "pred = clasificador.predict(x_test)\n",
    "print(f'accuracy: {accuracy_score(y_test,pred)}')"
   ]
  },
  {
   "cell_type": "code",
   "execution_count": 49,
   "metadata": {},
   "outputs": [],
   "source": [
    "def test_model(mod_clasificador, mod_bowler):\n",
    "    continuar = True\n",
    "    print('escribe salir o exit para terminar la conversacion')\n",
    "    while continuar == True:\n",
    "        continuar = get_prediction(mod_clasificador,mod_bowler) == True\n",
    "\n",
    "      \n",
    "def get_prediction(mod_clasificador,mod_bowler):\n",
    "    from text_2_bow_stopsTrue import text_to_matrix\n",
    "    texto = input('')\n",
    "    if (texto.lower() == 'salir') or (texto.lower() == 'exit'):\n",
    "        return False\n",
    "    else:\n",
    "        texto_coded = text_to_matrix(mod_bowler,texto)\n",
    "        prediction = mod_clasificador.predict(texto_coded.reshape(1, -1)) \n",
    "        prediction_probs = mod_clasificador.predict_proba(texto_coded.reshape(1, -1))\n",
    "        print('\\ntu texto: {}'.format(texto.lower()))\n",
    "        print(f'saludo: {round(prediction_probs[0][0]*100,2)}%, presentacion: {round(prediction_probs[0][1]*100,2)}%, informacion: {round(prediction_probs[0][2]*100,2)}%, recomendacion: {round(prediction_probs[0][3]*100,2)}%')\n",
    "        if prediction == 0:\n",
    "            print('prediccion: saludo')\n",
    "        elif prediction == 1:\n",
    "            print('prediccion: presentacion')\n",
    "        elif prediction == 2:\n",
    "            print('prediccion: informacion')\n",
    "        elif prediction == 3:\n",
    "            print('prediccion: recomendacion')\n",
    "        else: \n",
    "            print('No match')\n",
    "\n",
    "        return True"
   ]
  },
  {
   "cell_type": "code",
   "execution_count": null,
   "metadata": {},
   "outputs": [],
   "source": [
    "test_model(clasificador,bowler_generated)"
   ]
  },
  {
   "cell_type": "code",
   "execution_count": 51,
   "metadata": {},
   "outputs": [
    {
     "data": {
      "text/plain": [
       "['../models/basic_model_upgraded.joblib']"
      ]
     },
     "execution_count": 51,
     "metadata": {},
     "output_type": "execute_result"
    }
   ],
   "source": [
    "import joblib\n",
    "joblib.dump(clasificador,'../models/basic_model_upgraded.joblib')"
   ]
  }
 ],
 "metadata": {
  "kernelspec": {
   "display_name": "chatbot_nltk",
   "language": "python",
   "name": "python3"
  },
  "language_info": {
   "codemirror_mode": {
    "name": "ipython",
    "version": 3
   },
   "file_extension": ".py",
   "mimetype": "text/x-python",
   "name": "python",
   "nbconvert_exporter": "python",
   "pygments_lexer": "ipython3",
   "version": "3.12.3"
  }
 },
 "nbformat": 4,
 "nbformat_minor": 2
}
