{
 "cells": [
  {
   "cell_type": "code",
   "execution_count": 1,
   "metadata": {},
   "outputs": [],
   "source": [
    "from app import home"
   ]
  },
  {
   "cell_type": "code",
   "execution_count": 24,
   "metadata": {},
   "outputs": [],
   "source": [
    "import pandas as pd\n",
    "            "
   ]
  },
  {
   "cell_type": "code",
   "execution_count": 26,
   "metadata": {},
   "outputs": [],
   "source": [
    "df = pd.DataFrame(home)"
   ]
  },
  {
   "cell_type": "code",
   "execution_count": 32,
   "metadata": {},
   "outputs": [],
   "source": [
    "titles = df['title'].values.tolist()\n",
    "year = df['release_year'].values.tolist()\n",
    "type = df['type'].values.tolist()"
   ]
  },
  {
   "cell_type": "code",
   "execution_count": 43,
   "metadata": {},
   "outputs": [],
   "source": [
    "bin_searchs = [titles[i] + ' ' + type[i] + ' ' + str(year[i]) + ' poster' for  i in range(0,len(titles))] "
   ]
  },
  {
   "cell_type": "code",
   "execution_count": 44,
   "metadata": {},
   "outputs": [
    {
     "data": {
      "text/plain": [
       "('La casa de papel TV Show 2021 poster', 24)"
      ]
     },
     "execution_count": 44,
     "metadata": {},
     "output_type": "execute_result"
    }
   ],
   "source": [
    "bin_searchs[3], len(bin_searchs)"
   ]
  },
  {
   "cell_type": "code",
   "execution_count": 46,
   "metadata": {},
   "outputs": [],
   "source": [
    "import bing_image_downloader"
   ]
  },
  {
   "cell_type": "code",
   "execution_count": 48,
   "metadata": {},
   "outputs": [],
   "source": [
    "from pathlib import Path\n",
    "from bing_image_downloader import downloader"
   ]
  },
  {
   "cell_type": "code",
   "execution_count": 51,
   "metadata": {},
   "outputs": [
    {
     "name": "stdout",
     "output_type": "stream",
     "text": [
      "el directorio no existia se creo uno y se descargo la imagen\n",
      "[%] Downloading Images to /home/ackerman/Proyect-Movie-Recomendations-System-/directory_test/the machinist poster\n",
      "\n",
      "\n",
      "[!!]Indexing page: 1\n",
      "\n",
      "[%] Indexed 1 Images on Page 1.\n",
      "\n",
      "===============================================\n",
      "\n",
      "[%] Downloading Image #1 from https://www.themoviedb.org/t/p/original/7xXCGNE9dR0TJTFEEqq7ePzn6A1.jpg\n",
      "[%] File Downloaded !\n",
      "\n",
      "\n",
      "\n",
      "[%] Done. Downloaded 1 images.\n",
      "el directorio no existia se creo uno y se descargo la imagen\n",
      "[%] Downloading Images to /home/ackerman/Proyect-Movie-Recomendations-System-/directory_test/naruto poster\n",
      "\n",
      "\n",
      "[!!]Indexing page: 1\n",
      "\n",
      "[%] Indexed 1 Images on Page 1.\n",
      "\n",
      "===============================================\n",
      "\n",
      "[%] Downloading Image #1 from https://www.themoviedb.org/t/p/original/2NLyAAM2mcupCaC5giCMr83LfAq.jpg\n",
      "[%] File Downloaded !\n",
      "\n",
      "\n",
      "\n",
      "[%] Done. Downloaded 1 images.\n",
      "el directorio no existia se creo uno y se descargo la imagen\n",
      "[%] Downloading Images to /home/ackerman/Proyect-Movie-Recomendations-System-/directory_test/one peace poster\n",
      "\n",
      "\n",
      "[!!]Indexing page: 1\n",
      "\n",
      "[%] Indexed 1 Images on Page 1.\n",
      "\n",
      "===============================================\n",
      "\n",
      "[%] Downloading Image #1 from https://image.tmdb.org/t/p/original/4I1xjEKZxeeBT8RXg0BA6k6PM8e.jpg\n",
      "[%] File Downloaded !\n",
      "\n",
      "\n",
      "\n",
      "[%] Done. Downloaded 1 images.\n"
     ]
    }
   ],
   "source": [
    "posters = ['the machinist poster','naruto poster','one peace poster']\n",
    "images_dir = []\n",
    "for name in posters:\n",
    "  path = Path(f'/content/dataset/{name}')\n",
    "  if path.is_dir():\n",
    "    print('el directorio existe no se descargo nada')\n",
    "    continue\n",
    "  else:\n",
    "    print('el directorio no existia se creo uno y se descargo la imagen')\n",
    "    downloader.download(name,limit=1,\n",
    "                        adult_filter_off=True, force_replace=False, timeout=60,output_dir='./directory_test/')\n",
    "    images_dir.append(str(path)+'/Image_1.jpg')"
   ]
  }
 ],
 "metadata": {
  "kernelspec": {
   "display_name": "chatbot_nltk",
   "language": "python",
   "name": "python3"
  },
  "language_info": {
   "codemirror_mode": {
    "name": "ipython",
    "version": 3
   },
   "file_extension": ".py",
   "mimetype": "text/x-python",
   "name": "python",
   "nbconvert_exporter": "python",
   "pygments_lexer": "ipython3",
   "version": "3.12.3"
  }
 },
 "nbformat": 4,
 "nbformat_minor": 2
}
